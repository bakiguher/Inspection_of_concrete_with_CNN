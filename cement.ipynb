{
 "cells": [
  {
   "cell_type": "code",
   "execution_count": 144,
   "metadata": {},
   "outputs": [],
   "source": [
    "import numpy as np\n",
    "import os\n",
    "\n",
    "from  PIL import Image\n",
    "import matplotlib.pyplot as plt\n",
    "from matplotlib import image\n",
    "import splitfolders\n",
    "\n",
    "from tensorflow.python.keras.models import Sequential\n",
    "from tensorflow.keras.preprocessing.image import ImageDataGenerator\n",
    "from tensorflow.python.keras.layers import Conv2D, MaxPool2D, AveragePooling2D, Dropout, Flatten, Dense\n",
    "\n",
    "from tensorflow.keras.layers import BatchNormalization\n",
    "import tensorflow as tf\n",
    "import keras\n",
    "\n",
    "from tensorflow.python.keras.callbacks import ReduceLROnPlateau, EarlyStopping\n",
    "from keras.callbacks import TensorBoard\n",
    "import time\n",
    "\n",
    "\n",
    "\n",
    "input_folder='.\\\\data_concreate\\\\D\\\\'\n",
    "output_folder='\\\\data_concreate\\\\images\\\\'\n",
    "InpShape=32"
   ]
  },
  {
   "cell_type": "code",
   "execution_count": 22,
   "metadata": {},
   "outputs": [
    {
     "name": "stderr",
     "output_type": "stream",
     "text": [
      "Copying files: 17776 files [00:20, 850.37 files/s] \n"
     ]
    }
   ],
   "source": [
    "\n",
    "\n",
    "# # Split with a ratio.\n",
    "# # To only split into training and validation set, set a tuple to `ratio`, i.e, `(.8, .2)`.\n",
    "# splitfolders.ratio(input_folder, output=output_folder,\n",
    "#       seed=42, ratio=(.7, .2, .1), group_prefix=None, move=False) # default values\n",
    "\n"
   ]
  },
  {
   "cell_type": "code",
   "execution_count": 6,
   "metadata": {},
   "outputs": [],
   "source": [
    "base_model = keras.applications.VGG16(\n",
    "    weights='imagenet',  # Load weights pre-trained on ImageNet.\n",
    "    input_shape=(InpShape, InpShape, 3), # VGG16 expects min 32 x 32\n",
    "    include_top=False)  # Do not include the ImageNet classifier at the top.\n",
    "base_model.trainable = False\n"
   ]
  },
  {
   "cell_type": "code",
   "execution_count": 192,
   "metadata": {},
   "outputs": [],
   "source": [
    "METRICS = [\n",
    "      keras.metrics.BinaryAccuracy(name='accuracy'),\n",
    "      keras.metrics.Precision(name='precision'),\n",
    "      keras.metrics.Recall(name='recall'),\n",
    "      #keras.metrics.CategoricalCrossentropy(name='ccent'),\n",
    "      keras.metrics.TruePositives(name='tp'),\n",
    "      keras.metrics.FalsePositives(name='fp'),\n",
    "      keras.metrics.TrueNegatives(name='tn'),\n",
    "      keras.metrics.FalseNegatives(name='fn'), \n",
    "   \n",
    "      \n",
    "      #keras.metrics.AUC(name='auc'),\n",
    "     # keras.metrics.AUC(name='prc', curve='PR'), # precision-recall curve\n",
    "]\n",
    "\n"
   ]
  },
  {
   "cell_type": "code",
   "execution_count": 279,
   "metadata": {},
   "outputs": [],
   "source": [
    "inputs = tf.keras.Input(shape=(InpShape,InpShape,3))\n",
    "x = tf.keras.layers.Conv2D(filters=32, kernel_size=(3,3), activation='relu')(inputs)\n",
    "x = tf.keras.layers.MaxPool2D(pool_size=(2,2))(x)\n",
    "x = tf.keras.layers.Conv2D(filters=32, kernel_size=(3,3), activation='relu')(x)\n",
    "x = tf.keras.layers.MaxPool2D(pool_size=(2,2))(x)\n",
    "x = tf.keras.layers.Conv2D(filters=64, kernel_size=(3,3), activation='relu')(x)\n",
    "x = tf.keras.layers.MaxPool2D(pool_size=(2,2))(x)\n",
    "x = tf.keras.layers.Flatten()(x)\n",
    "x = tf.keras.layers.Dense(64,activation='relu')(x)\n",
    "x=tf.keras.layers.Dropout(0.5)(x)\n",
    "outputs = tf.keras.layers.Dense(1, activation='sigmoid')(x)\n",
    "model = tf.keras.Model(inputs=inputs, outputs=outputs)\n",
    "\n",
    "\n",
    "\n",
    "\n",
    "\n"
   ]
  },
  {
   "cell_type": "code",
   "execution_count": 280,
   "metadata": {},
   "outputs": [
    {
     "name": "stdout",
     "output_type": "stream",
     "text": [
      "Model: \"model_28\"\n",
      "_________________________________________________________________\n",
      " Layer (type)                Output Shape              Param #   \n",
      "=================================================================\n",
      " input_40 (InputLayer)       [(None, 32, 32, 3)]       0         \n",
      "                                                                 \n",
      " conv2d_106 (Conv2D)         (None, 30, 30, 32)        896       \n",
      "                                                                 \n",
      " max_pooling2d_94 (MaxPoolin  (None, 15, 15, 32)       0         \n",
      " g2D)                                                            \n",
      "                                                                 \n",
      " conv2d_107 (Conv2D)         (None, 13, 13, 32)        9248      \n",
      "                                                                 \n",
      " max_pooling2d_95 (MaxPoolin  (None, 6, 6, 32)         0         \n",
      " g2D)                                                            \n",
      "                                                                 \n",
      " conv2d_108 (Conv2D)         (None, 4, 4, 64)          18496     \n",
      "                                                                 \n",
      " max_pooling2d_96 (MaxPoolin  (None, 2, 2, 64)         0         \n",
      " g2D)                                                            \n",
      "                                                                 \n",
      " flatten_1 (Flatten)         (None, 256)               0         \n",
      "                                                                 \n",
      " dense_34 (Dense)            (None, 64)                16448     \n",
      "                                                                 \n",
      " dropout_1 (Dropout)         (None, 64)                0         \n",
      "                                                                 \n",
      " dense_35 (Dense)            (None, 1)                 65        \n",
      "                                                                 \n",
      "=================================================================\n",
      "Total params: 45,153\n",
      "Trainable params: 45,153\n",
      "Non-trainable params: 0\n",
      "_________________________________________________________________\n"
     ]
    }
   ],
   "source": [
    "model.summary()"
   ]
  },
  {
   "cell_type": "code",
   "execution_count": 281,
   "metadata": {},
   "outputs": [],
   "source": [
    "\n",
    "NAME=\"cement_binary-{}\".format(int(time.time())) # log file name for tensorboard\n",
    "\n",
    "\n",
    "model.compile(optimizer=keras.optimizers.Adam(),\n",
    "              loss=keras.losses.BinaryCrossentropy(), # default from_logits=False\n",
    "              metrics=METRICS)\n",
    "\n",
    "\n",
    "\n",
    "early_stop = EarlyStopping(monitor='val_loss', patience=8, verbose=1,mode='auto')\n",
    "learning_rate = ReduceLROnPlateau(monitor='val_loss', factor=0.1, patience=3, verbose=1, mode='auto')\n",
    "tensorboard=TensorBoard(log_dir='./logs/{}'.format(NAME)) ## logs are under logs folder for tensorboard\n",
    "\n",
    "\n",
    "batch_size = 32 \n",
    "epochs = 75\n",
    "\n",
    "\n",
    "\n",
    "\n",
    "\n"
   ]
  },
  {
   "cell_type": "code",
   "execution_count": 270,
   "metadata": {},
   "outputs": [
    {
     "name": "stdout",
     "output_type": "stream",
     "text": [
      "Found 12442 images belonging to 2 classes.\n"
     ]
    }
   ],
   "source": [
    "\n",
    "\n",
    "\n",
    "train_datagen = ImageDataGenerator(rescale = 1./255\n",
    "                                  )\n",
    "training_set = train_datagen.flow_from_directory('./'+output_folder + 'train',\n",
    "                                                 target_size = (InpShape,InpShape),\n",
    "                                                 batch_size = batch_size,\n",
    "                                                 \n",
    "                                                 class_mode = 'binary')\n"
   ]
  },
  {
   "cell_type": "code",
   "execution_count": 181,
   "metadata": {},
   "outputs": [
    {
     "data": {
      "text/plain": [
       "{'NO': 0, 'OK': 1}"
      ]
     },
     "execution_count": 181,
     "metadata": {},
     "output_type": "execute_result"
    }
   ],
   "source": [
    "training_set.class_indices"
   ]
  },
  {
   "cell_type": "code",
   "execution_count": 271,
   "metadata": {},
   "outputs": [
    {
     "name": "stdout",
     "output_type": "stream",
     "text": [
      "Found 3554 images belonging to 2 classes.\n"
     ]
    }
   ],
   "source": [
    "val_datagen = ImageDataGenerator(rescale = 1./255)\n",
    "val_set = val_datagen.flow_from_directory('./'+output_folder +'val',\n",
    "                                    \n",
    "                                            target_size = (InpShape, InpShape),\n",
    "                                            batch_size = batch_size,\n",
    "                                            class_mode = 'binary')\n"
   ]
  },
  {
   "cell_type": "code",
   "execution_count": 182,
   "metadata": {},
   "outputs": [
    {
     "data": {
      "text/plain": [
       "{'NO': 0, 'OK': 1}"
      ]
     },
     "execution_count": 182,
     "metadata": {},
     "output_type": "execute_result"
    }
   ],
   "source": [
    "val_set.class_indices"
   ]
  },
  {
   "cell_type": "code",
   "execution_count": 282,
   "metadata": {},
   "outputs": [
    {
     "name": "stdout",
     "output_type": "stream",
     "text": [
      "Epoch 1/75\n",
      "389/389 [==============================] - 17s 39ms/step - loss: 0.5881 - accuracy: 0.7276 - precision: 0.7259 - recall: 0.7693 - tp: 5719.0000 - fp: 2159.0000 - tn: 4629.0000 - fn: 1715.0000 - val_loss: 0.5645 - val_accuracy: 0.7316 - val_precision: 0.8188 - val_recall: 0.6249 - val_tp: 1161.0000 - val_fp: 257.0000 - val_tn: 1439.0000 - val_fn: 697.0000 - lr: 0.0010\n",
      "Epoch 2/75\n",
      "389/389 [==============================] - 14s 36ms/step - loss: 0.5489 - accuracy: 0.7495 - precision: 0.7652 - recall: 0.7512 - tp: 4886.0000 - fp: 1499.0000 - tn: 4439.0000 - fn: 1618.0000 - val_loss: 0.5124 - val_accuracy: 0.7794 - val_precision: 0.7609 - val_recall: 0.8428 - val_tp: 1566.0000 - val_fp: 492.0000 - val_tn: 1204.0000 - val_fn: 292.0000 - lr: 0.0010\n",
      "Epoch 3/75\n",
      "389/389 [==============================] - 14s 36ms/step - loss: 0.5143 - accuracy: 0.7745 - precision: 0.7849 - recall: 0.7832 - tp: 5094.0000 - fp: 1396.0000 - tn: 4542.0000 - fn: 1410.0000 - val_loss: 0.4668 - val_accuracy: 0.8053 - val_precision: 0.7898 - val_recall: 0.8552 - val_tp: 1589.0000 - val_fp: 423.0000 - val_tn: 1273.0000 - val_fn: 269.0000 - lr: 0.0010\n",
      "Epoch 4/75\n",
      "389/389 [==============================] - 14s 36ms/step - loss: 0.4925 - accuracy: 0.7871 - precision: 0.7973 - recall: 0.7947 - tp: 5169.0000 - fp: 1314.0000 - tn: 4624.0000 - fn: 1335.0000 - val_loss: 0.4635 - val_accuracy: 0.8025 - val_precision: 0.8247 - val_recall: 0.7901 - val_tp: 1468.0000 - val_fp: 312.0000 - val_tn: 1384.0000 - val_fn: 390.0000 - lr: 0.0010\n",
      "Epoch 5/75\n",
      "389/389 [==============================] - 14s 36ms/step - loss: 0.4707 - accuracy: 0.7985 - precision: 0.8062 - recall: 0.8090 - tp: 5262.0000 - fp: 1265.0000 - tn: 4673.0000 - fn: 1242.0000 - val_loss: 0.4321 - val_accuracy: 0.8208 - val_precision: 0.8752 - val_recall: 0.7664 - val_tp: 1424.0000 - val_fp: 203.0000 - val_tn: 1493.0000 - val_fn: 434.0000 - lr: 0.0010\n",
      "Epoch 6/75\n",
      "389/389 [==============================] - 14s 37ms/step - loss: 0.4590 - accuracy: 0.8040 - precision: 0.8110 - recall: 0.8149 - tp: 5300.0000 - fp: 1235.0000 - tn: 4703.0000 - fn: 1204.0000 - val_loss: 0.4070 - val_accuracy: 0.8306 - val_precision: 0.8240 - val_recall: 0.8595 - val_tp: 1597.0000 - val_fp: 341.0000 - val_tn: 1355.0000 - val_fn: 261.0000 - lr: 0.0010\n",
      "Epoch 7/75\n",
      "389/389 [==============================] - 14s 36ms/step - loss: 0.4527 - accuracy: 0.8041 - precision: 0.8137 - recall: 0.8110 - tp: 5275.0000 - fp: 1208.0000 - tn: 4730.0000 - fn: 1229.0000 - val_loss: 0.4188 - val_accuracy: 0.8340 - val_precision: 0.8453 - val_recall: 0.8353 - val_tp: 1552.0000 - val_fp: 284.0000 - val_tn: 1412.0000 - val_fn: 306.0000 - lr: 0.0010\n",
      "Epoch 8/75\n",
      "389/389 [==============================] - 14s 36ms/step - loss: 0.4457 - accuracy: 0.8125 - precision: 0.8228 - recall: 0.8173 - tp: 5316.0000 - fp: 1145.0000 - tn: 4793.0000 - fn: 1188.0000 - val_loss: 0.4097 - val_accuracy: 0.8272 - val_precision: 0.8558 - val_recall: 0.8052 - val_tp: 1496.0000 - val_fp: 252.0000 - val_tn: 1444.0000 - val_fn: 362.0000 - lr: 0.0010\n",
      "Epoch 9/75\n",
      "388/389 [============================>.] - ETA: 0s - loss: 0.4319 - accuracy: 0.8172 - precision: 0.8262 - recall: 0.8238 - tp: 5349.0000 - fp: 1125.0000 - tn: 4792.0000 - fn: 1144.0000\n",
      "Epoch 00009: ReduceLROnPlateau reducing learning rate to 0.00010000000474974513.\n",
      "389/389 [==============================] - 14s 36ms/step - loss: 0.4319 - accuracy: 0.8174 - precision: 0.8262 - recall: 0.8240 - tp: 5359.0000 - fp: 1127.0000 - tn: 4811.0000 - fn: 1145.0000 - val_loss: 0.4201 - val_accuracy: 0.8067 - val_precision: 0.8699 - val_recall: 0.7411 - val_tp: 1377.0000 - val_fp: 206.0000 - val_tn: 1490.0000 - val_fn: 481.0000 - lr: 0.0010\n",
      "Epoch 10/75\n",
      "389/389 [==============================] - 14s 36ms/step - loss: 0.4038 - accuracy: 0.8279 - precision: 0.8320 - recall: 0.8406 - tp: 5467.0000 - fp: 1104.0000 - tn: 4834.0000 - fn: 1037.0000 - val_loss: 0.3662 - val_accuracy: 0.8444 - val_precision: 0.8473 - val_recall: 0.8568 - val_tp: 1592.0000 - val_fp: 287.0000 - val_tn: 1409.0000 - val_fn: 266.0000 - lr: 1.0000e-04\n",
      "Epoch 11/75\n",
      "389/389 [==============================] - 14s 36ms/step - loss: 0.3938 - accuracy: 0.8335 - precision: 0.8342 - recall: 0.8507 - tp: 5533.0000 - fp: 1100.0000 - tn: 4838.0000 - fn: 971.0000 - val_loss: 0.3653 - val_accuracy: 0.8430 - val_precision: 0.8487 - val_recall: 0.8515 - val_tp: 1582.0000 - val_fp: 282.0000 - val_tn: 1414.0000 - val_fn: 276.0000 - lr: 1.0000e-04\n",
      "Epoch 12/75\n",
      "389/389 [==============================] - 14s 36ms/step - loss: 0.3917 - accuracy: 0.8343 - precision: 0.8302 - recall: 0.8585 - tp: 5584.0000 - fp: 1142.0000 - tn: 4796.0000 - fn: 920.0000 - val_loss: 0.3657 - val_accuracy: 0.8436 - val_precision: 0.8285 - val_recall: 0.8837 - val_tp: 1642.0000 - val_fp: 340.0000 - val_tn: 1356.0000 - val_fn: 216.0000 - lr: 1.0000e-04\n",
      "Epoch 13/75\n",
      "389/389 [==============================] - 14s 36ms/step - loss: 0.3894 - accuracy: 0.8356 - precision: 0.8330 - recall: 0.8573 - tp: 5576.0000 - fp: 1118.0000 - tn: 4820.0000 - fn: 928.0000 - val_loss: 0.3606 - val_accuracy: 0.8469 - val_precision: 0.8429 - val_recall: 0.8692 - val_tp: 1615.0000 - val_fp: 301.0000 - val_tn: 1395.0000 - val_fn: 243.0000 - lr: 1.0000e-04\n",
      "Epoch 14/75\n",
      "389/389 [==============================] - 14s 36ms/step - loss: 0.3870 - accuracy: 0.8383 - precision: 0.8316 - recall: 0.8661 - tp: 5633.0000 - fp: 1141.0000 - tn: 4797.0000 - fn: 871.0000 - val_loss: 0.3624 - val_accuracy: 0.8447 - val_precision: 0.8481 - val_recall: 0.8563 - val_tp: 1591.0000 - val_fp: 285.0000 - val_tn: 1411.0000 - val_fn: 267.0000 - lr: 1.0000e-04\n",
      "Epoch 15/75\n",
      "389/389 [==============================] - 14s 37ms/step - loss: 0.3852 - accuracy: 0.8367 - precision: 0.8300 - recall: 0.8647 - tp: 5624.0000 - fp: 1152.0000 - tn: 4786.0000 - fn: 880.0000 - val_loss: 0.3562 - val_accuracy: 0.8478 - val_precision: 0.8424 - val_recall: 0.8719 - val_tp: 1620.0000 - val_fp: 303.0000 - val_tn: 1393.0000 - val_fn: 238.0000 - lr: 1.0000e-04\n",
      "Epoch 16/75\n",
      "389/389 [==============================] - 14s 36ms/step - loss: 0.3829 - accuracy: 0.8352 - precision: 0.8273 - recall: 0.8655 - tp: 5629.0000 - fp: 1175.0000 - tn: 4763.0000 - fn: 875.0000 - val_loss: 0.3571 - val_accuracy: 0.8478 - val_precision: 0.8490 - val_recall: 0.8622 - val_tp: 1602.0000 - val_fp: 285.0000 - val_tn: 1411.0000 - val_fn: 256.0000 - lr: 1.0000e-04\n",
      "Epoch 17/75\n",
      "389/389 [==============================] - 14s 36ms/step - loss: 0.3823 - accuracy: 0.8373 - precision: 0.8262 - recall: 0.8724 - tp: 5674.0000 - fp: 1194.0000 - tn: 4744.0000 - fn: 830.0000 - val_loss: 0.3556 - val_accuracy: 0.8486 - val_precision: 0.8448 - val_recall: 0.8703 - val_tp: 1617.0000 - val_fp: 297.0000 - val_tn: 1399.0000 - val_fn: 241.0000 - lr: 1.0000e-04\n",
      "Epoch 18/75\n",
      "389/389 [==============================] - 14s 36ms/step - loss: 0.3831 - accuracy: 0.8407 - precision: 0.8300 - recall: 0.8744 - tp: 5687.0000 - fp: 1165.0000 - tn: 4773.0000 - fn: 817.0000 - val_loss: 0.3540 - val_accuracy: 0.8509 - val_precision: 0.8458 - val_recall: 0.8741 - val_tp: 1624.0000 - val_fp: 296.0000 - val_tn: 1400.0000 - val_fn: 234.0000 - lr: 1.0000e-04\n",
      "Epoch 19/75\n",
      "389/389 [==============================] - 14s 36ms/step - loss: 0.3769 - accuracy: 0.8416 - precision: 0.8314 - recall: 0.8742 - tp: 5686.0000 - fp: 1153.0000 - tn: 4785.0000 - fn: 818.0000 - val_loss: 0.3500 - val_accuracy: 0.8506 - val_precision: 0.8429 - val_recall: 0.8778 - val_tp: 1631.0000 - val_fp: 304.0000 - val_tn: 1392.0000 - val_fn: 227.0000 - lr: 1.0000e-04\n",
      "Epoch 20/75\n",
      "389/389 [==============================] - 14s 37ms/step - loss: 0.3729 - accuracy: 0.8427 - precision: 0.8299 - recall: 0.8793 - tp: 5719.0000 - fp: 1172.0000 - tn: 4766.0000 - fn: 785.0000 - val_loss: 0.3526 - val_accuracy: 0.8497 - val_precision: 0.8434 - val_recall: 0.8751 - val_tp: 1626.0000 - val_fp: 302.0000 - val_tn: 1394.0000 - val_fn: 232.0000 - lr: 1.0000e-04\n",
      "Epoch 21/75\n",
      "389/389 [==============================] - 14s 36ms/step - loss: 0.3731 - accuracy: 0.8469 - precision: 0.8337 - recall: 0.8833 - tp: 5745.0000 - fp: 1146.0000 - tn: 4792.0000 - fn: 759.0000 - val_loss: 0.3468 - val_accuracy: 0.8557 - val_precision: 0.8337 - val_recall: 0.9042 - val_tp: 1680.0000 - val_fp: 335.0000 - val_tn: 1361.0000 - val_fn: 178.0000 - lr: 1.0000e-04\n",
      "Epoch 22/75\n",
      "389/389 [==============================] - 14s 36ms/step - loss: 0.3689 - accuracy: 0.8456 - precision: 0.8305 - recall: 0.8853 - tp: 5758.0000 - fp: 1175.0000 - tn: 4763.0000 - fn: 746.0000 - val_loss: 0.3457 - val_accuracy: 0.8540 - val_precision: 0.8489 - val_recall: 0.8767 - val_tp: 1629.0000 - val_fp: 290.0000 - val_tn: 1406.0000 - val_fn: 229.0000 - lr: 1.0000e-04\n",
      "Epoch 23/75\n",
      "389/389 [==============================] - 14s 36ms/step - loss: 0.3689 - accuracy: 0.8487 - precision: 0.8354 - recall: 0.8848 - tp: 5755.0000 - fp: 1134.0000 - tn: 4804.0000 - fn: 749.0000 - val_loss: 0.3441 - val_accuracy: 0.8576 - val_precision: 0.8407 - val_recall: 0.8977 - val_tp: 1668.0000 - val_fp: 316.0000 - val_tn: 1380.0000 - val_fn: 190.0000 - lr: 1.0000e-04\n",
      "Epoch 24/75\n",
      "389/389 [==============================] - 14s 36ms/step - loss: 0.3673 - accuracy: 0.8489 - precision: 0.8363 - recall: 0.8839 - tp: 5749.0000 - fp: 1125.0000 - tn: 4813.0000 - fn: 755.0000 - val_loss: 0.3436 - val_accuracy: 0.8590 - val_precision: 0.8435 - val_recall: 0.8967 - val_tp: 1666.0000 - val_fp: 309.0000 - val_tn: 1387.0000 - val_fn: 192.0000 - lr: 1.0000e-04\n",
      "Epoch 25/75\n",
      "389/389 [==============================] - 14s 37ms/step - loss: 0.3658 - accuracy: 0.8484 - precision: 0.8345 - recall: 0.8856 - tp: 5760.0000 - fp: 1142.0000 - tn: 4796.0000 - fn: 744.0000 - val_loss: 0.3437 - val_accuracy: 0.8582 - val_precision: 0.8545 - val_recall: 0.8784 - val_tp: 1632.0000 - val_fp: 278.0000 - val_tn: 1418.0000 - val_fn: 226.0000 - lr: 1.0000e-04\n",
      "Epoch 26/75\n",
      "389/389 [==============================] - 14s 36ms/step - loss: 0.3658 - accuracy: 0.8503 - precision: 0.8369 - recall: 0.8862 - tp: 5764.0000 - fp: 1123.0000 - tn: 4815.0000 - fn: 740.0000 - val_loss: 0.3415 - val_accuracy: 0.8602 - val_precision: 0.8439 - val_recall: 0.8988 - val_tp: 1670.0000 - val_fp: 309.0000 - val_tn: 1387.0000 - val_fn: 188.0000 - lr: 1.0000e-04\n",
      "Epoch 27/75\n",
      "389/389 [==============================] - 14s 36ms/step - loss: 0.3625 - accuracy: 0.8503 - precision: 0.8375 - recall: 0.8856 - tp: 5760.0000 - fp: 1118.0000 - tn: 4820.0000 - fn: 744.0000 - val_loss: 0.3451 - val_accuracy: 0.8562 - val_precision: 0.8611 - val_recall: 0.8644 - val_tp: 1606.0000 - val_fp: 259.0000 - val_tn: 1437.0000 - val_fn: 252.0000 - lr: 1.0000e-04\n",
      "Epoch 28/75\n",
      "389/389 [==============================] - 14s 36ms/step - loss: 0.3587 - accuracy: 0.8535 - precision: 0.8411 - recall: 0.8873 - tp: 5771.0000 - fp: 1090.0000 - tn: 4848.0000 - fn: 733.0000 - val_loss: 0.3400 - val_accuracy: 0.8604 - val_precision: 0.8312 - val_recall: 0.9198 - val_tp: 1709.0000 - val_fp: 347.0000 - val_tn: 1349.0000 - val_fn: 149.0000 - lr: 1.0000e-04\n",
      "Epoch 29/75\n",
      "389/389 [==============================] - 14s 37ms/step - loss: 0.3583 - accuracy: 0.8533 - precision: 0.8398 - recall: 0.8890 - tp: 5782.0000 - fp: 1103.0000 - tn: 4835.0000 - fn: 722.0000 - val_loss: 0.3466 - val_accuracy: 0.8568 - val_precision: 0.8238 - val_recall: 0.9236 - val_tp: 1716.0000 - val_fp: 367.0000 - val_tn: 1329.0000 - val_fn: 142.0000 - lr: 1.0000e-04\n",
      "Epoch 30/75\n",
      "389/389 [==============================] - 14s 36ms/step - loss: 0.3579 - accuracy: 0.8516 - precision: 0.8389 - recall: 0.8862 - tp: 5764.0000 - fp: 1107.0000 - tn: 4831.0000 - fn: 740.0000 - val_loss: 0.3399 - val_accuracy: 0.8573 - val_precision: 0.8553 - val_recall: 0.8751 - val_tp: 1626.0000 - val_fp: 275.0000 - val_tn: 1421.0000 - val_fn: 232.0000 - lr: 1.0000e-04\n",
      "Epoch 31/75\n",
      "389/389 [==============================] - 14s 37ms/step - loss: 0.3560 - accuracy: 0.8564 - precision: 0.8458 - recall: 0.8870 - tp: 5769.0000 - fp: 1052.0000 - tn: 4886.0000 - fn: 735.0000 - val_loss: 0.3358 - val_accuracy: 0.8633 - val_precision: 0.8536 - val_recall: 0.8913 - val_tp: 1656.0000 - val_fp: 284.0000 - val_tn: 1412.0000 - val_fn: 202.0000 - lr: 1.0000e-04\n",
      "Epoch 32/75\n",
      "389/389 [==============================] - 14s 36ms/step - loss: 0.3546 - accuracy: 0.8544 - precision: 0.8427 - recall: 0.8870 - tp: 5769.0000 - fp: 1077.0000 - tn: 4861.0000 - fn: 735.0000 - val_loss: 0.3364 - val_accuracy: 0.8621 - val_precision: 0.8540 - val_recall: 0.8881 - val_tp: 1650.0000 - val_fp: 282.0000 - val_tn: 1414.0000 - val_fn: 208.0000 - lr: 1.0000e-04\n",
      "Epoch 33/75\n",
      "389/389 [==============================] - 14s 36ms/step - loss: 0.3523 - accuracy: 0.8552 - precision: 0.8429 - recall: 0.8885 - tp: 5779.0000 - fp: 1077.0000 - tn: 4861.0000 - fn: 725.0000 - val_loss: 0.3383 - val_accuracy: 0.8633 - val_precision: 0.8479 - val_recall: 0.8999 - val_tp: 1672.0000 - val_fp: 300.0000 - val_tn: 1396.0000 - val_fn: 186.0000 - lr: 1.0000e-04\n",
      "Epoch 34/75\n",
      "388/389 [============================>.] - ETA: 0s - loss: 0.3517 - accuracy: 0.8569 - precision: 0.8452 - recall: 0.8890 - tp: 5765.0000 - fp: 1056.0000 - tn: 4869.0000 - fn: 720.0000\n",
      "Epoch 00034: ReduceLROnPlateau reducing learning rate to 1.0000000474974514e-05.\n",
      "389/389 [==============================] - 14s 37ms/step - loss: 0.3518 - accuracy: 0.8569 - precision: 0.8453 - recall: 0.8888 - tp: 5781.0000 - fp: 1058.0000 - tn: 4880.0000 - fn: 723.0000 - val_loss: 0.3391 - val_accuracy: 0.8579 - val_precision: 0.8620 - val_recall: 0.8671 - val_tp: 1611.0000 - val_fp: 258.0000 - val_tn: 1438.0000 - val_fn: 247.0000 - lr: 1.0000e-04\n",
      "Epoch 35/75\n",
      "389/389 [==============================] - 14s 36ms/step - loss: 0.3446 - accuracy: 0.8586 - precision: 0.8503 - recall: 0.8855 - tp: 5759.0000 - fp: 1014.0000 - tn: 4924.0000 - fn: 745.0000 - val_loss: 0.3359 - val_accuracy: 0.8635 - val_precision: 0.8441 - val_recall: 0.9064 - val_tp: 1684.0000 - val_fp: 311.0000 - val_tn: 1385.0000 - val_fn: 174.0000 - lr: 1.0000e-05\n",
      "Epoch 36/75\n",
      "389/389 [==============================] - 14s 36ms/step - loss: 0.3455 - accuracy: 0.8626 - precision: 0.8503 - recall: 0.8945 - tp: 5818.0000 - fp: 1024.0000 - tn: 4914.0000 - fn: 686.0000 - val_loss: 0.3343 - val_accuracy: 0.8618 - val_precision: 0.8521 - val_recall: 0.8902 - val_tp: 1654.0000 - val_fp: 287.0000 - val_tn: 1409.0000 - val_fn: 204.0000 - lr: 1.0000e-05\n",
      "Epoch 37/75\n",
      "389/389 [==============================] - 14s 36ms/step - loss: 0.3441 - accuracy: 0.8618 - precision: 0.8499 - recall: 0.8933 - tp: 5810.0000 - fp: 1026.0000 - tn: 4912.0000 - fn: 694.0000 - val_loss: 0.3347 - val_accuracy: 0.8613 - val_precision: 0.8509 - val_recall: 0.8907 - val_tp: 1655.0000 - val_fp: 290.0000 - val_tn: 1406.0000 - val_fn: 203.0000 - lr: 1.0000e-05\n",
      "Epoch 38/75\n",
      "389/389 [==============================] - 14s 36ms/step - loss: 0.3460 - accuracy: 0.8607 - precision: 0.8483 - recall: 0.8933 - tp: 5810.0000 - fp: 1039.0000 - tn: 4899.0000 - fn: 694.0000 - val_loss: 0.3356 - val_accuracy: 0.8613 - val_precision: 0.8557 - val_recall: 0.8837 - val_tp: 1642.0000 - val_fp: 277.0000 - val_tn: 1419.0000 - val_fn: 216.0000 - lr: 1.0000e-05\n",
      "Epoch 39/75\n",
      "389/389 [==============================] - ETA: 0s - loss: 0.3454 - accuracy: 0.8614 - precision: 0.8498 - recall: 0.8925 - tp: 5805.0000 - fp: 1026.0000 - tn: 4912.0000 - fn: 699.0000\n",
      "Epoch 00039: ReduceLROnPlateau reducing learning rate to 1.0000000656873453e-06.\n",
      "389/389 [==============================] - 14s 37ms/step - loss: 0.3454 - accuracy: 0.8614 - precision: 0.8498 - recall: 0.8925 - tp: 5805.0000 - fp: 1026.0000 - tn: 4912.0000 - fn: 699.0000 - val_loss: 0.3354 - val_accuracy: 0.8658 - val_precision: 0.8496 - val_recall: 0.9031 - val_tp: 1678.0000 - val_fp: 297.0000 - val_tn: 1399.0000 - val_fn: 180.0000 - lr: 1.0000e-05\n",
      "Epoch 40/75\n",
      "389/389 [==============================] - 14s 36ms/step - loss: 0.3442 - accuracy: 0.8601 - precision: 0.8456 - recall: 0.8959 - tp: 5827.0000 - fp: 1064.0000 - tn: 4874.0000 - fn: 677.0000 - val_loss: 0.3346 - val_accuracy: 0.8652 - val_precision: 0.8527 - val_recall: 0.8972 - val_tp: 1667.0000 - val_fp: 288.0000 - val_tn: 1408.0000 - val_fn: 191.0000 - lr: 1.0000e-06\n",
      "Epoch 41/75\n",
      "389/389 [==============================] - 14s 36ms/step - loss: 0.3448 - accuracy: 0.8616 - precision: 0.8495 - recall: 0.8936 - tp: 5812.0000 - fp: 1030.0000 - tn: 4908.0000 - fn: 692.0000 - val_loss: 0.3344 - val_accuracy: 0.8638 - val_precision: 0.8527 - val_recall: 0.8940 - val_tp: 1661.0000 - val_fp: 287.0000 - val_tn: 1409.0000 - val_fn: 197.0000 - lr: 1.0000e-06\n",
      "Epoch 42/75\n",
      "389/389 [==============================] - ETA: 0s - loss: 0.3432 - accuracy: 0.8615 - precision: 0.8486 - recall: 0.8947 - tp: 5819.0000 - fp: 1038.0000 - tn: 4900.0000 - fn: 685.0000\n",
      "Epoch 00042: ReduceLROnPlateau reducing learning rate to 1.0000001111620805e-07.\n",
      "389/389 [==============================] - 14s 36ms/step - loss: 0.3432 - accuracy: 0.8615 - precision: 0.8486 - recall: 0.8947 - tp: 5819.0000 - fp: 1038.0000 - tn: 4900.0000 - fn: 685.0000 - val_loss: 0.3343 - val_accuracy: 0.8638 - val_precision: 0.8527 - val_recall: 0.8940 - val_tp: 1661.0000 - val_fp: 287.0000 - val_tn: 1409.0000 - val_fn: 197.0000 - lr: 1.0000e-06\n",
      "Epoch 43/75\n",
      "389/389 [==============================] - 14s 37ms/step - loss: 0.3421 - accuracy: 0.8627 - precision: 0.8510 - recall: 0.8939 - tp: 5814.0000 - fp: 1018.0000 - tn: 4920.0000 - fn: 690.0000 - val_loss: 0.3343 - val_accuracy: 0.8638 - val_precision: 0.8527 - val_recall: 0.8940 - val_tp: 1661.0000 - val_fp: 287.0000 - val_tn: 1409.0000 - val_fn: 197.0000 - lr: 1.0000e-07\n",
      "Epoch 44/75\n",
      "389/389 [==============================] - 14s 36ms/step - loss: 0.3429 - accuracy: 0.8608 - precision: 0.8485 - recall: 0.8931 - tp: 5809.0000 - fp: 1037.0000 - tn: 4901.0000 - fn: 695.0000 - val_loss: 0.3343 - val_accuracy: 0.8638 - val_precision: 0.8527 - val_recall: 0.8940 - val_tp: 1661.0000 - val_fp: 287.0000 - val_tn: 1409.0000 - val_fn: 197.0000 - lr: 1.0000e-07\n",
      "Epoch 00044: early stopping\n"
     ]
    }
   ],
   "source": [
    "history = model.fit(training_set, validation_data=val_set, \n",
    "                     epochs = epochs,callbacks = [learning_rate, early_stop, tensorboard])"
   ]
  },
  {
   "cell_type": "code",
   "execution_count": 283,
   "metadata": {},
   "outputs": [
    {
     "name": "stdout",
     "output_type": "stream",
     "text": [
      "Found 1780 images belonging to 2 classes.\n"
     ]
    }
   ],
   "source": [
    "test_datagen = ImageDataGenerator(rescale = 1./255)\n",
    "\n",
    "\n",
    "test_set = test_datagen.flow_from_directory('./'+output_folder +'test',\n",
    "                                            target_size = (InpShape, InpShape),\n",
    "                                            batch_size = batch_size,\n",
    "                                            class_mode = 'binary')"
   ]
  },
  {
   "cell_type": "code",
   "execution_count": 284,
   "metadata": {},
   "outputs": [
    {
     "name": "stdout",
     "output_type": "stream",
     "text": [
      "56/56 [==============================] - 2s 29ms/step - loss: 0.3573 - accuracy: 0.8478 - precision: 0.8359 - recall: 0.8817 - tp: 820.0000 - fp: 161.0000 - tn: 689.0000 - fn: 110.0000\n"
     ]
    },
    {
     "data": {
      "text/plain": [
       "[0.3572673797607422,\n",
       " 0.8477528095245361,\n",
       " 0.835881769657135,\n",
       " 0.8817204236984253,\n",
       " 820.0,\n",
       " 161.0,\n",
       " 689.0,\n",
       " 110.0]"
      ]
     },
     "execution_count": 284,
     "metadata": {},
     "output_type": "execute_result"
    }
   ],
   "source": [
    "#history.model.evaluate(test_datagen)\n",
    "score = model.evaluate(test_set)\n",
    "\n",
    "#score = model.evaluate(generator=test_set)\n",
    "#print('Accuracy:', score[1])\n",
    "\n",
    "score\n"
   ]
  },
  {
   "cell_type": "code",
   "execution_count": 285,
   "metadata": {},
   "outputs": [],
   "source": [
    "model_json = model.to_json()\n",
    "with open(\"modelbm.json\", \"w\") as json_file:\n",
    "    json_file.write(model_json)\n",
    "model.save_weights(\"modelbm.h5\")"
   ]
  },
  {
   "cell_type": "code",
   "execution_count": null,
   "metadata": {},
   "outputs": [],
   "source": []
  }
 ],
 "metadata": {
  "kernelspec": {
   "display_name": "Python 3.10.2 ('fpenv': venv)",
   "language": "python",
   "name": "python3"
  },
  "language_info": {
   "codemirror_mode": {
    "name": "ipython",
    "version": 3
   },
   "file_extension": ".py",
   "mimetype": "text/x-python",
   "name": "python",
   "nbconvert_exporter": "python",
   "pygments_lexer": "ipython3",
   "version": "3.10.2"
  },
  "orig_nbformat": 4,
  "vscode": {
   "interpreter": {
    "hash": "78b1e49cd5e32408aa5f511263e1173aa36430829e3ca852ce0af459472a6a2b"
   }
  }
 },
 "nbformat": 4,
 "nbformat_minor": 2
}
