{
 "cells": [
  {
   "cell_type": "code",
   "execution_count": null,
   "metadata": {},
   "outputs": [],
   "source": [
    "import pandas as pd\n",
    "import numpy as np\n",
    "IMAGELOC='./data/Flicker8k_Dataset/'"
   ]
  },
  {
   "cell_type": "markdown",
   "metadata": {},
   "source": [
    "Flickr8k.token.txt - the raw captions of the Flickr8k Dataset . The first column is the ID of the caption which is \"image address # caption number\"\n",
    "\n",
    "Flickr8k.lemma.txt - the lemmatized version of the above captions \n",
    "\n",
    "Flickr_8k.trainImages.txt - The training images used in our experiments  \n",
    "Flickr_8k.devImages.txt - The development/validation images used in our experiments  \n",
    "Flickr_8k.testImages.txt - The test images used in our experiments "
   ]
  },
  {
   "cell_type": "code",
   "execution_count": null,
   "metadata": {},
   "outputs": [],
   "source": [
    "df = pd.read_csv(\"./data/Flickr8k_text/Flickr8k.token.txt\",header=None, sep='\\t',engine='python',names=['image','description'])\n",
    "df[['image','did']] = df.image.str.split(\"#\",expand=True,)\n",
    "\n",
    "\n",
    "print(len(df))\n",
    "df.head(3)"
   ]
  },
  {
   "cell_type": "code",
   "execution_count": null,
   "metadata": {},
   "outputs": [],
   "source": [
    "dftrain=pd.read_csv(\"./data/Flickr8k_text/Flickr_8k.trainImages.txt\",header=None,engine='python',names=['image'])\n",
    "dftrain['type']='train'\n",
    "dftest=pd.read_csv(\"./data/Flickr8k_text/Flickr_8k.testImages.txt\",header=None,engine='python',names=['image'])\n",
    "dftest['type']='test'\n",
    "dfval=pd.read_csv(\"./data/Flickr8k_text/Flickr_8k.devImages.txt\",header=None,engine='python',names=['image'])\n",
    "dfval['type']='val'"
   ]
  },
  {
   "cell_type": "code",
   "execution_count": null,
   "metadata": {},
   "outputs": [],
   "source": [
    "_dataframes=[dftrain,dftest,dfval]\n",
    "mergeddfs=pd.concat(_dataframes)\n",
    "\n",
    "df=pd.merge(df,mergeddfs)"
   ]
  },
  {
   "cell_type": "code",
   "execution_count": null,
   "metadata": {},
   "outputs": [],
   "source": [
    "df['image']=IMAGELOC + df['image']"
   ]
  },
  {
   "cell_type": "code",
   "execution_count": null,
   "metadata": {},
   "outputs": [],
   "source": [
    "df['type'].value_counts()"
   ]
  },
  {
   "cell_type": "code",
   "execution_count": null,
   "metadata": {},
   "outputs": [],
   "source": [
    "from transformers import ViTFeatureExtractor, ViTForImageClassification\n",
    "from PIL import Image\n",
    "import requests\n",
    "url = 'http://images.cocodataset.org/val2017/000000039769.jpg'\n",
    "\n",
    "\n",
    "feature_extractor = ViTFeatureExtractor.from_pretrained('google/vit-base-patch32-384')\n",
    "model = ViTForImageClassification.from_pretrained('google/vit-base-patch32-384')\n",
    "\n"
   ]
  },
  {
   "cell_type": "code",
   "execution_count": null,
   "metadata": {},
   "outputs": [],
   "source": [
    "import matplotlib.pyplot as plt\n",
    "import matplotlib.image as mpimg\n",
    "\n",
    "#select any index from the whole dataset \n",
    "#single image has 5 captions\n",
    "data_idx = 359\n",
    "data_idx=data_idx*5\n",
    "image_path = df.iloc[data_idx,0]\n",
    "img=mpimg.imread(image_path)\n",
    "plt.imshow(img)\n",
    "plt.show()\n",
    "\n",
    "#image consits of 5 captions,\n",
    "#showing all 5 captions of the image of the given idx \n",
    "for i in range(data_idx,data_idx+5):\n",
    "    print(\"Caption:\",df.iloc[i,1])\n"
   ]
  },
  {
   "cell_type": "code",
   "execution_count": null,
   "metadata": {},
   "outputs": [],
   "source": [
    "url=image_path\n",
    "image = Image.open(url)\n",
    "inputs = feature_extractor(images=image, return_tensors=\"pt\")\n",
    "outputs = model(**inputs)\n",
    "logits = outputs.logits\n",
    "# model predicts one of the 1000 ImageNet classes\n",
    "predicted_class_idx = logits.argmax(-1).item()\n",
    "print(\"Predicted class:\", model.config.id2label[predicted_class_idx])\n",
    "\n"
   ]
  }
 ],
 "metadata": {
  "kernelspec": {
   "display_name": "Python 3.10.2 ('fpenv': venv)",
   "language": "python",
   "name": "python3"
  },
  "language_info": {
   "codemirror_mode": {
    "name": "ipython",
    "version": 3
   },
   "file_extension": ".py",
   "mimetype": "text/x-python",
   "name": "python",
   "nbconvert_exporter": "python",
   "pygments_lexer": "ipython3",
   "version": "3.10.2"
  },
  "orig_nbformat": 4,
  "vscode": {
   "interpreter": {
    "hash": "78b1e49cd5e32408aa5f511263e1173aa36430829e3ca852ce0af459472a6a2b"
   }
  }
 },
 "nbformat": 4,
 "nbformat_minor": 2
}
