{
 "cells": [
  {
   "cell_type": "code",
   "execution_count": 164,
   "metadata": {},
   "outputs": [],
   "source": [
    "import pandas as pd\n",
    "import numpy as np\n",
    "import os\n",
    "file='./data/voynich.txt'"
   ]
  },
  {
   "cell_type": "code",
   "execution_count": 165,
   "metadata": {},
   "outputs": [
    {
     "name": "stdout",
     "output_type": "stream",
     "text": [
      "5214\n"
     ]
    },
    {
     "data": {
      "text/html": [
       "<div>\n",
       "<style scoped>\n",
       "    .dataframe tbody tr th:only-of-type {\n",
       "        vertical-align: middle;\n",
       "    }\n",
       "\n",
       "    .dataframe tbody tr th {\n",
       "        vertical-align: top;\n",
       "    }\n",
       "\n",
       "    .dataframe thead th {\n",
       "        text-align: right;\n",
       "    }\n",
       "</style>\n",
       "<table border=\"1\" class=\"dataframe\">\n",
       "  <thead>\n",
       "    <tr style=\"text-align: right;\">\n",
       "      <th></th>\n",
       "      <th>heading</th>\n",
       "      <th>text</th>\n",
       "    </tr>\n",
       "  </thead>\n",
       "  <tbody>\n",
       "    <tr>\n",
       "      <th>0</th>\n",
       "      <td>&lt;f1r.P1.1;H</td>\n",
       "      <td>fachys.ykal.ar.ataiin.shol.shory.cthres...</td>\n",
       "    </tr>\n",
       "    <tr>\n",
       "      <th>1</th>\n",
       "      <td>&lt;f1r.P1.2;H</td>\n",
       "      <td>sory.ckhar.or.y.kair.chtaiin.shar.are.c...</td>\n",
       "    </tr>\n",
       "    <tr>\n",
       "      <th>2</th>\n",
       "      <td>&lt;f1r.P1.3;H</td>\n",
       "      <td>syaiir.sheky.or.ykaiin.shod.cthoary.cth...</td>\n",
       "    </tr>\n",
       "  </tbody>\n",
       "</table>\n",
       "</div>"
      ],
      "text/plain": [
       "       heading                                               text\n",
       "0  <f1r.P1.1;H         fachys.ykal.ar.ataiin.shol.shory.cthres...\n",
       "1  <f1r.P1.2;H         sory.ckhar.or.y.kair.chtaiin.shar.are.c...\n",
       "2  <f1r.P1.3;H         syaiir.sheky.or.ykaiin.shod.cthoary.cth..."
      ]
     },
     "execution_count": 165,
     "metadata": {},
     "output_type": "execute_result"
    }
   ],
   "source": [
    "#df = pd.read_csv(file,header=None, sep='\\t',engine='python',names=['image','description'])\n",
    "df = pd.read_csv(file,header=None,sep='>',names=['heading','text'])\n",
    "# df[['image','did']] = df.image.str.split(\"#\",expand=True,)\n",
    "\n",
    "\n",
    "print(len(df))\n",
    "df.head(3)"
   ]
  },
  {
   "cell_type": "code",
   "execution_count": 166,
   "metadata": {},
   "outputs": [
    {
     "data": {
      "text/html": [
       "<div>\n",
       "<style scoped>\n",
       "    .dataframe tbody tr th:only-of-type {\n",
       "        vertical-align: middle;\n",
       "    }\n",
       "\n",
       "    .dataframe tbody tr th {\n",
       "        vertical-align: top;\n",
       "    }\n",
       "\n",
       "    .dataframe thead th {\n",
       "        text-align: right;\n",
       "    }\n",
       "</style>\n",
       "<table border=\"1\" class=\"dataframe\">\n",
       "  <thead>\n",
       "    <tr style=\"text-align: right;\">\n",
       "      <th></th>\n",
       "      <th>heading</th>\n",
       "      <th>text</th>\n",
       "    </tr>\n",
       "  </thead>\n",
       "  <tbody>\n",
       "    <tr>\n",
       "      <th>0</th>\n",
       "      <td>f1r.P1.1;H</td>\n",
       "      <td>fachys.ykal.ar.ataiin.shol.shory.cthres.y.kor....</td>\n",
       "    </tr>\n",
       "    <tr>\n",
       "      <th>1</th>\n",
       "      <td>f1r.P1.2;H</td>\n",
       "      <td>sory.ckhar.or.y.kair.chtaiin.shar.are.cthar.ct...</td>\n",
       "    </tr>\n",
       "    <tr>\n",
       "      <th>2</th>\n",
       "      <td>f1r.P1.3;H</td>\n",
       "      <td>syaiir.sheky.or.ykaiin.shod.cthoary.cthes.dara...</td>\n",
       "    </tr>\n",
       "    <tr>\n",
       "      <th>3</th>\n",
       "      <td>f1r.P1.4;H</td>\n",
       "      <td>ooiin.oteey.oteos.roloty.cth*ar.daiin.otaiin.o...</td>\n",
       "    </tr>\n",
       "    <tr>\n",
       "      <th>4</th>\n",
       "      <td>f1r.P1.5;H</td>\n",
       "      <td>dair.y.chear.cthaiin.cphar.cfhaiin</td>\n",
       "    </tr>\n",
       "  </tbody>\n",
       "</table>\n",
       "</div>"
      ],
      "text/plain": [
       "      heading                                               text\n",
       "0  f1r.P1.1;H  fachys.ykal.ar.ataiin.shol.shory.cthres.y.kor....\n",
       "1  f1r.P1.2;H  sory.ckhar.or.y.kair.chtaiin.shar.are.cthar.ct...\n",
       "2  f1r.P1.3;H  syaiir.sheky.or.ykaiin.shod.cthoary.cthes.dara...\n",
       "3  f1r.P1.4;H  ooiin.oteey.oteos.roloty.cth*ar.daiin.otaiin.o...\n",
       "4  f1r.P1.5;H                 dair.y.chear.cthaiin.cphar.cfhaiin"
      ]
     },
     "execution_count": 166,
     "metadata": {},
     "output_type": "execute_result"
    }
   ],
   "source": [
    "df['heading'] = df.heading.str.replace('<','')\n",
    "df['text'] = df.text.str.strip()\n",
    "df.head(5)"
   ]
  },
  {
   "cell_type": "code",
   "execution_count": 167,
   "metadata": {},
   "outputs": [],
   "source": [
    "df[['page','paragraph','line']] = df.heading.str.split(\".\",expand=True)"
   ]
  },
  {
   "cell_type": "code",
   "execution_count": 168,
   "metadata": {},
   "outputs": [
    {
     "name": "stderr",
     "output_type": "stream",
     "text": [
      "C:\\Users\\bakig\\AppData\\Local\\Temp\\ipykernel_34104\\2797887583.py:2: FutureWarning: The default value of regex will change from True to False in a future version. In addition, single character regular expressions will *not* be treated as literal strings when regex=True.\n",
      "  df['text']=df['text'].str.replace('.',' ')\n"
     ]
    }
   ],
   "source": [
    "df['page']=df['page'].str.replace('f','')\n",
    "df['text']=df['text'].str.replace('.',' ')\n",
    "df['text']=df['text'].str.replace('=',' ')"
   ]
  },
  {
   "cell_type": "code",
   "execution_count": 169,
   "metadata": {},
   "outputs": [
    {
     "data": {
      "text/html": [
       "<div>\n",
       "<style scoped>\n",
       "    .dataframe tbody tr th:only-of-type {\n",
       "        vertical-align: middle;\n",
       "    }\n",
       "\n",
       "    .dataframe tbody tr th {\n",
       "        vertical-align: top;\n",
       "    }\n",
       "\n",
       "    .dataframe thead th {\n",
       "        text-align: right;\n",
       "    }\n",
       "</style>\n",
       "<table border=\"1\" class=\"dataframe\">\n",
       "  <thead>\n",
       "    <tr style=\"text-align: right;\">\n",
       "      <th></th>\n",
       "      <th>heading</th>\n",
       "      <th>text</th>\n",
       "      <th>page</th>\n",
       "      <th>paragraph</th>\n",
       "      <th>line</th>\n",
       "    </tr>\n",
       "  </thead>\n",
       "  <tbody>\n",
       "    <tr>\n",
       "      <th>0</th>\n",
       "      <td>f1r.P1.1;H</td>\n",
       "      <td>fachys ykal ar ataiin shol shory cthres y kor ...</td>\n",
       "      <td>1r</td>\n",
       "      <td>P1</td>\n",
       "      <td>1;H</td>\n",
       "    </tr>\n",
       "    <tr>\n",
       "      <th>1</th>\n",
       "      <td>f1r.P1.2;H</td>\n",
       "      <td>sory ckhar or y kair chtaiin shar are cthar ct...</td>\n",
       "      <td>1r</td>\n",
       "      <td>P1</td>\n",
       "      <td>2;H</td>\n",
       "    </tr>\n",
       "    <tr>\n",
       "      <th>2</th>\n",
       "      <td>f1r.P1.3;H</td>\n",
       "      <td>syaiir sheky or ykaiin shod cthoary cthes dara...</td>\n",
       "      <td>1r</td>\n",
       "      <td>P1</td>\n",
       "      <td>3;H</td>\n",
       "    </tr>\n",
       "  </tbody>\n",
       "</table>\n",
       "</div>"
      ],
      "text/plain": [
       "      heading                                               text page  \\\n",
       "0  f1r.P1.1;H  fachys ykal ar ataiin shol shory cthres y kor ...   1r   \n",
       "1  f1r.P1.2;H  sory ckhar or y kair chtaiin shar are cthar ct...   1r   \n",
       "2  f1r.P1.3;H  syaiir sheky or ykaiin shod cthoary cthes dara...   1r   \n",
       "\n",
       "  paragraph line  \n",
       "0        P1  1;H  \n",
       "1        P1  2;H  \n",
       "2        P1  3;H  "
      ]
     },
     "execution_count": 169,
     "metadata": {},
     "output_type": "execute_result"
    }
   ],
   "source": [
    "df.head(3)"
   ]
  },
  {
   "cell_type": "code",
   "execution_count": null,
   "metadata": {},
   "outputs": [],
   "source": [
    "df.to_csv('data.csv')"
   ]
  },
  {
   "cell_type": "code",
   "execution_count": null,
   "metadata": {},
   "outputs": [],
   "source": [
    "data=df['text']"
   ]
  },
  {
   "cell_type": "markdown",
   "metadata": {},
   "source": [
    "Creating our own tokenizer"
   ]
  },
  {
   "cell_type": "code",
   "execution_count": null,
   "metadata": {},
   "outputs": [],
   "source": [
    "def get_training_corpus():\n",
    "    for i in range(0, len(df)):\n",
    "        yield df.iloc[i : ][\"text\"]"
   ]
  },
  {
   "cell_type": "code",
   "execution_count": null,
   "metadata": {},
   "outputs": [],
   "source": [
    "import re\n",
    "from tokenizers import Tokenizer, models, normalizers, pre_tokenizers, trainers, processors, decoders\n",
    "tokenizer = Tokenizer(models.WordPiece(unk_token=\"[UNK]\"))\n",
    "\n"
   ]
  },
  {
   "cell_type": "code",
   "execution_count": null,
   "metadata": {},
   "outputs": [],
   "source": [
    "tokenizer.normalizer = normalizers.Sequence(\n",
    "    [\n",
    "        normalizers.Replace((r\"[\\p{Other}&&[^\\n\\t\\r]]\"), \"\"),\n",
    "        normalizers.Replace((r\"[\\s]\"), \" \"),\n",
    "        normalizers.Lowercase(),\n",
    "        normalizers.NFD(), normalizers.StripAccents()]\n",
    ")"
   ]
  },
  {
   "cell_type": "code",
   "execution_count": null,
   "metadata": {},
   "outputs": [],
   "source": [
    "tokenizer.pre_tokenizer = pre_tokenizers.Whitespace()\n",
    "special_tokens = [\"[UNK]\", \"[PAD]\", \"[CLS]\", \"[SEP]\", \"[MASK]\"]\n",
    "trainer = trainers.WordPieceTrainer(vocab_size=25000, special_tokens=special_tokens)\n",
    "tokenizer.train_from_iterator(get_training_corpus(), trainer=trainer)"
   ]
  },
  {
   "cell_type": "code",
   "execution_count": null,
   "metadata": {},
   "outputs": [],
   "source": [
    "cls_token_id = tokenizer.token_to_id(\"[CLS]\")\n",
    "sep_token_id = tokenizer.token_to_id(\"[SEP]\")\n",
    "tokenizer.post_processor = processors.TemplateProcessing(\n",
    "    single=f\"[CLS]:0 $A:0 [SEP]:0\",\n",
    "    pair=f\"[CLS]:0 $A:0 [SEP]:0 $B:1 [SEP]:1\",\n",
    "    special_tokens=[(\"[CLS]\", cls_token_id), (\"[SEP]\", sep_token_id)],\n",
    ")"
   ]
  },
  {
   "cell_type": "code",
   "execution_count": null,
   "metadata": {},
   "outputs": [],
   "source": [
    "tokenizer.decoder = decoders.WordPiece(prefix=\"##\")"
   ]
  },
  {
   "cell_type": "code",
   "execution_count": null,
   "metadata": {},
   "outputs": [],
   "source": [
    "tokenizer.save('token_voynich.json')"
   ]
  },
  {
   "cell_type": "code",
   "execution_count": 170,
   "metadata": {},
   "outputs": [],
   "source": [
    "import gensim\n",
    "import gensim.corpora as corpora\n",
    "from gensim.utils import simple_preprocess\n",
    "from gensim.models import CoherenceModel"
   ]
  },
  {
   "cell_type": "code",
   "execution_count": 182,
   "metadata": {},
   "outputs": [],
   "source": [
    "df.to_csv('df.csv')"
   ]
  },
  {
   "cell_type": "code",
   "execution_count": null,
   "metadata": {},
   "outputs": [],
   "source": [
    "\n",
    "txt_files_dir='./data/tokenfiles/'"
   ]
  },
  {
   "cell_type": "code",
   "execution_count": 172,
   "metadata": {},
   "outputs": [],
   "source": [
    "#Group by paragraph\n",
    "#datadf=df.groupby(['page','paragraph'])['text'].apply(lambda x: ''.join(x)).reset_index()\n",
    "\n",
    "#group by page\n",
    "datadf=df.groupby(['page'])['text'].apply(lambda x: ''.join(x)).reset_index()"
   ]
  },
  {
   "cell_type": "code",
   "execution_count": 173,
   "metadata": {},
   "outputs": [],
   "source": [
    "datadf['size']=datadf['text'].str.len()"
   ]
  },
  {
   "cell_type": "code",
   "execution_count": 158,
   "metadata": {},
   "outputs": [],
   "source": [
    "datadf.sort_values(by=['page'],inplace=True)\n"
   ]
  },
  {
   "cell_type": "code",
   "execution_count": 174,
   "metadata": {},
   "outputs": [
    {
     "data": {
      "text/html": [
       "<div>\n",
       "<style scoped>\n",
       "    .dataframe tbody tr th:only-of-type {\n",
       "        vertical-align: middle;\n",
       "    }\n",
       "\n",
       "    .dataframe tbody tr th {\n",
       "        vertical-align: top;\n",
       "    }\n",
       "\n",
       "    .dataframe thead th {\n",
       "        text-align: right;\n",
       "    }\n",
       "</style>\n",
       "<table border=\"1\" class=\"dataframe\">\n",
       "  <thead>\n",
       "    <tr style=\"text-align: right;\">\n",
       "      <th></th>\n",
       "      <th>page</th>\n",
       "      <th>text</th>\n",
       "      <th>size</th>\n",
       "    </tr>\n",
       "  </thead>\n",
       "  <tbody>\n",
       "    <tr>\n",
       "      <th>0</th>\n",
       "      <td>100r</td>\n",
       "      <td>chosarosholsochorcfhyotearchofarysar char-daii...</td>\n",
       "      <td>717</td>\n",
       "    </tr>\n",
       "    <tr>\n",
       "      <th>1</th>\n",
       "      <td>100v</td>\n",
       "      <td>tolchdcholsopchorrolsysol eesosykchochdyykchdy...</td>\n",
       "      <td>572</td>\n",
       "    </tr>\n",
       "    <tr>\n",
       "      <th>2</th>\n",
       "      <td>101r1</td>\n",
       "      <td>pcheol cheol ol shey qockhol shor yteol sheock...</td>\n",
       "      <td>1272</td>\n",
       "    </tr>\n",
       "    <tr>\n",
       "      <th>3</th>\n",
       "      <td>101v2</td>\n",
       "      <td>sairalyotaldyotalytadokororarotorarotalasoraly...</td>\n",
       "      <td>1277</td>\n",
       "    </tr>\n",
       "    <tr>\n",
       "      <th>4</th>\n",
       "      <td>102r1</td>\n",
       "      <td>dordodorolalydardshotodeeodorpolaiin shocthy q...</td>\n",
       "      <td>707</td>\n",
       "    </tr>\n",
       "    <tr>\n",
       "      <th>...</th>\n",
       "      <td>...</td>\n",
       "      <td>...</td>\n",
       "      <td>...</td>\n",
       "    </tr>\n",
       "    <tr>\n",
       "      <th>220</th>\n",
       "      <td>96v</td>\n",
       "      <td>psheoas sheeor qoepsheody odar ocpheo-opar ysa...</td>\n",
       "      <td>382</td>\n",
       "    </tr>\n",
       "    <tr>\n",
       "      <th>221</th>\n",
       "      <td>99r</td>\n",
       "      <td>okoramogokarydararokysalooro-ainokorsalolskeea...</td>\n",
       "      <td>1127</td>\n",
       "    </tr>\n",
       "    <tr>\n",
       "      <th>222</th>\n",
       "      <td>99v</td>\n",
       "      <td>otaramyotoldyotor-chyoldydar-aryotalyolsyarolo...</td>\n",
       "      <td>1073</td>\n",
       "    </tr>\n",
       "    <tr>\n",
       "      <th>223</th>\n",
       "      <td>9r</td>\n",
       "      <td>tydlo choly cthor orchey s shy odaiin sary-sho...</td>\n",
       "      <td>484</td>\n",
       "    </tr>\n",
       "    <tr>\n",
       "      <th>224</th>\n",
       "      <td>9v</td>\n",
       "      <td>fochor oporody opy shor daiin qopchypcho qofol...</td>\n",
       "      <td>475</td>\n",
       "    </tr>\n",
       "  </tbody>\n",
       "</table>\n",
       "<p>225 rows × 3 columns</p>\n",
       "</div>"
      ],
      "text/plain": [
       "      page                                               text  size\n",
       "0     100r  chosarosholsochorcfhyotearchofarysar char-daii...   717\n",
       "1     100v  tolchdcholsopchorrolsysol eesosykchochdyykchdy...   572\n",
       "2    101r1  pcheol cheol ol shey qockhol shor yteol sheock...  1272\n",
       "3    101v2  sairalyotaldyotalytadokororarotorarotalasoraly...  1277\n",
       "4    102r1  dordodorolalydardshotodeeodorpolaiin shocthy q...   707\n",
       "..     ...                                                ...   ...\n",
       "220    96v  psheoas sheeor qoepsheody odar ocpheo-opar ysa...   382\n",
       "221    99r  okoramogokarydararokysalooro-ainokorsalolskeea...  1127\n",
       "222    99v  otaramyotoldyotor-chyoldydar-aryotalyolsyarolo...  1073\n",
       "223     9r  tydlo choly cthor orchey s shy odaiin sary-sho...   484\n",
       "224     9v  fochor oporody opy shor daiin qopchypcho qofol...   475\n",
       "\n",
       "[225 rows x 3 columns]"
      ]
     },
     "execution_count": 174,
     "metadata": {},
     "output_type": "execute_result"
    }
   ],
   "source": [
    "data=datadf['text']\n",
    "datadf"
   ]
  },
  {
   "cell_type": "code",
   "execution_count": null,
   "metadata": {},
   "outputs": [],
   "source": [
    "# Store values in a dataframe column (Series object) to files, one file per record\n",
    "def column_to_files(column, prefix, txt_files_dir):\n",
    "    # The prefix is a unique ID to avoid to overwrite a text file\n",
    "    i=prefix\n",
    "    #For every value in the df, with just one column\n",
    "    for row in column.to_list():\n",
    "      # Create the filename using the prefix ID\n",
    "      file_name = os.path.join(txt_files_dir, str(i)+'.txt')\n",
    "      try:\n",
    "        # Create the file and write the column text to it\n",
    "        f = open(file_name, 'wb')\n",
    "        f.write(row.encode('utf-8'))\n",
    "        f.close()\n",
    "      except Exception as e:  #catch exceptions(for eg. empty rows)\n",
    "        print(row, e) \n",
    "      i+=1\n",
    "    # Return the last ID\n",
    "    return i\n",
    "# Get the training data\n",
    "\n",
    "# Removing the end of line character \\n\n",
    "data = data.replace(\"\\n\",\" \")\n",
    "# Set the ID to 0\n",
    "prefix=0\n",
    "# Create a file for every description value\n",
    "prefix = column_to_files(data, prefix, txt_files_dir)\n",
    "# Print the last ID\n",
    "print(prefix)\n",
    "# Get the test data\n"
   ]
  },
  {
   "cell_type": "code",
   "execution_count": null,
   "metadata": {},
   "outputs": [],
   "source": []
  },
  {
   "cell_type": "code",
   "execution_count": null,
   "metadata": {},
   "outputs": [],
   "source": [
    "from tokenizers import ByteLevelBPETokenizer\n",
    "from tokenizers.processors import BertProcessing\n",
    "from pathlib import Path\n",
    "\n",
    "\n",
    "paths = [str(x) for x in Path(\".\").glob(\"./data/tokenfiles/*.txt\")]\n",
    "\n",
    "# Initialize a tokenizer\n",
    "tokenizer = ByteLevelBPETokenizer(lowercase=True)\n",
    "\n",
    "# Customize training\n",
    "tokenizer.train(files=paths, vocab_size=8192, min_frequency=2,\n",
    "                show_progress=True,\n",
    "                special_tokens=[\n",
    "                                \"<s>\",\n",
    "                                \"<pad>\",\n",
    "                                \"</s>\",\n",
    "                                \"<unk>\",\n",
    "                                \"<mask>\",\n",
    "])\n",
    "#Save the Tokenizer to disk\n",
    "tokenizer.save_model('./data/')\n",
    "\n",
    "    \n"
   ]
  },
  {
   "cell_type": "code",
   "execution_count": 161,
   "metadata": {},
   "outputs": [
    {
     "data": {
      "text/plain": [
       "0      chos!aroshol sochorcfhy otear chofary sar char...\n",
       "1      tolchd chols opchor rolsy sol eesos ykchochdy ...\n",
       "2      pcheol cheol ol shey qockhol shor yteol sheock...\n",
       "3      sairaly otaldy otal yta dokor orar otorar otal...\n",
       "4      dordod orolaly dardsh otodeeodor polaiin shoct...\n",
       "                             ...                        \n",
       "220    psheoas sheeor qoepsheody odar ocpheo-opar ysa...\n",
       "221    okoramog okar!y darar oky salo oro-ain okor sa...\n",
       "222    otaramy otoldy otor-chy oldy dar-ary otaly ols...\n",
       "223    tydlo choly cthor orchey s shy odaiin sary-sho...\n",
       "224    fochor oporody opy shor daiin qopchypcho qofol...\n",
       "Name: text, Length: 225, dtype: object"
      ]
     },
     "execution_count": 161,
     "metadata": {},
     "output_type": "execute_result"
    }
   ],
   "source": [
    "data"
   ]
  },
  {
   "cell_type": "code",
   "execution_count": 175,
   "metadata": {},
   "outputs": [
    {
     "name": "stdout",
     "output_type": "stream",
     "text": [
      "['char', 'sheod', 'qocpheeckhy', 'shodol', 'cthdaoto', 'qeos', 'sheey', 'chcthso', 'dsheor', 'cthey', 'qokeey', 'oteey', 'ykeeodain', 'sorary', 'daiin', 'daiin', 'deeamshol', 'shor', 'chkeey', 'qoteey']\n"
     ]
    }
   ],
   "source": [
    "\n",
    "def gen_words(texts):\n",
    "    final = []\n",
    "    for text in texts:\n",
    "        new = gensim.utils.simple_preprocess(text, deacc=True,min_len=3)\n",
    "        final.append(new)\n",
    "    return (final)\n",
    "\n",
    "data_words = gen_words(list(data))\n",
    "\n",
    "print (data_words[0][0:20])"
   ]
  },
  {
   "cell_type": "code",
   "execution_count": 176,
   "metadata": {},
   "outputs": [
    {
     "name": "stdout",
     "output_type": "stream",
     "text": [
      "[(0, 1), (1, 1), (2, 1), (3, 1), (4, 1), (5, 1), (6, 1), (7, 1), (8, 3), (9, 1), (10, 1), (11, 1), (12, 8), (13, 1), (14, 2), (15, 1), (16, 2), (17, 1), (18, 1), (19, 1)]\n",
      "alcfhy\n"
     ]
    }
   ],
   "source": [
    "id2word = corpora.Dictionary(data_words)\n",
    "\n",
    "corpus = []\n",
    "for text in data_words:\n",
    "    new = id2word.doc2bow(text)\n",
    "    corpus.append(new)\n",
    "\n",
    "print (corpus[0][0:20])\n",
    "\n",
    "word = id2word[[0][:1][0]]\n",
    "print (word)"
   ]
  },
  {
   "cell_type": "code",
   "execution_count": 177,
   "metadata": {},
   "outputs": [],
   "source": [
    "lda_model = gensim.models.ldamodel.LdaModel(corpus=corpus,\n",
    "                                           id2word=id2word,\n",
    "                                           num_topics=5,\n",
    "                                           random_state=100,\n",
    "                                           update_every=1,\n",
    "                                           chunksize=50,\n",
    "                                           passes=50,\n",
    "                                           iterations=150,\n",
    "                                           alpha=\"auto\")"
   ]
  },
  {
   "cell_type": "code",
   "execution_count": 178,
   "metadata": {},
   "outputs": [
    {
     "data": {
      "text/plain": [
       "[(0,\n",
       "  '0.009*\"sheol\" + 0.006*\"cheol\" + 0.006*\"cheo\" + 0.006*\"cheor\" + 0.006*\"cthey\" + 0.005*\"okeol\" + 0.004*\"shey\" + 0.004*\"okeey\" + 0.004*\"sheor\" + 0.004*\"ctheey\"'),\n",
       " (1,\n",
       "  '0.031*\"shedy\" + 0.028*\"chedy\" + 0.023*\"qokeedy\" + 0.022*\"qokain\" + 0.021*\"qokedy\" + 0.017*\"qokeey\" + 0.015*\"shey\" + 0.014*\"chey\" + 0.013*\"qol\" + 0.012*\"qokal\"'),\n",
       " (2,\n",
       "  '0.052*\"daiin\" + 0.029*\"chol\" + 0.022*\"chor\" + 0.015*\"shol\" + 0.012*\"cthy\" + 0.011*\"sho\" + 0.010*\"chy\" + 0.010*\"dar\" + 0.009*\"dain\" + 0.008*\"dal\"'),\n",
       " (3,\n",
       "  '0.026*\"aiin\" + 0.021*\"daiin\" + 0.011*\"dar\" + 0.010*\"chedy\" + 0.009*\"dal\" + 0.009*\"chdy\" + 0.008*\"okaiin\" + 0.008*\"qokaiin\" + 0.007*\"chey\" + 0.007*\"chol\"'),\n",
       " (4,\n",
       "  '0.002*\"chal\" + 0.001*\"choeey\" + 0.001*\"keeody\" + 0.001*\"lkchey\" + 0.001*\"ysheod\" + 0.001*\"cheokam\" + 0.001*\"ldain\" + 0.001*\"chaly\" + 0.001*\"okalal\" + 0.001*\"cpheody\"')]"
      ]
     },
     "execution_count": 178,
     "metadata": {},
     "output_type": "execute_result"
    }
   ],
   "source": [
    "lda_model.print_topics()"
   ]
  },
  {
   "cell_type": "code",
   "execution_count": 119,
   "metadata": {},
   "outputs": [],
   "source": [
    "qq=data[1]"
   ]
  },
  {
   "cell_type": "code",
   "execution_count": 151,
   "metadata": {},
   "outputs": [
    {
     "data": {
      "text/plain": [
       "'101r1'"
      ]
     },
     "execution_count": 151,
     "metadata": {},
     "output_type": "execute_result"
    }
   ],
   "source": [
    "datadf.iloc[2,0]"
   ]
  },
  {
   "cell_type": "code",
   "execution_count": 179,
   "metadata": {},
   "outputs": [],
   "source": [
    "doctopics=[]\n",
    "datadf\n",
    "k=0\n",
    "for a in data:\n",
    "\n",
    "    bow = id2word.doc2bow(a.split())\n",
    "    t = lda_model.get_document_topics(bow,per_word_topics=False,minimum_probability=0.33)\n",
    "    t.append(datadf.iloc[k,0])\n",
    "    k=k+1\n",
    "    doctopics.append(t)\n",
    "    \n"
   ]
  },
  {
   "cell_type": "code",
   "execution_count": 180,
   "metadata": {},
   "outputs": [
    {
     "data": {
      "text/plain": [
       "[[(2, 0.71747744), '100r'],\n",
       " [(3, 0.87269557), '100v'],\n",
       " [(0, 0.49030903), '101r1'],\n",
       " [(0, 0.3573261), (3, 0.40141678), '101v2'],\n",
       " [(3, 0.899806), '102r1'],\n",
       " [(3, 0.8728626), '102r2'],\n",
       " [(3, 0.9303472), '102v1'],\n",
       " [(0, 0.5209029), (3, 0.47718185), '102v2'],\n",
       " [(1, 0.85998356), '103r'],\n",
       " [(1, 0.5432537), (3, 0.4561548), '103v'],\n",
       " [(3, 0.99924433), '104r'],\n",
       " [(3, 0.6082596), '104v'],\n",
       " [(3, 0.65526944), '105r'],\n",
       " [(3, 0.74945587), '105v'],\n",
       " [(3, 0.6358427), '106r'],\n",
       " [(3, 0.99928546), '106v'],\n",
       " [(3, 0.8567707), '107r'],\n",
       " [(1, 0.50025123), (3, 0.49916735), '107v'],\n",
       " [(1, 0.64956105), (3, 0.34991026), '108r'],\n",
       " [(1, 0.83913726), '108v'],\n",
       " [(2, 0.99451464), '10r'],\n",
       " [(2, 0.99245167), '10v'],\n",
       " [(1, 0.7857528), '111r'],\n",
       " [(1, 0.8006426), '111v'],\n",
       " [(1, 0.5686472), (3, 0.43063343), '112r'],\n",
       " [(3, 0.81186), '112v'],\n",
       " [(3, 0.7168664), '113r'],\n",
       " [(3, 0.86657643), '113v'],\n",
       " [(3, 0.99928087), '114r'],\n",
       " [(3, 0.9991078), '114v'],\n",
       " [(1, 0.5147842), (3, 0.4121287), '115r'],\n",
       " [(3, 0.4371528), '115v'],\n",
       " [(1, 0.9388163), '116r'],\n",
       " [(2, 0.99195325), '11r'],\n",
       " [(2, 0.98642343), '11v'],\n",
       " [(2, 0.99368703), '13r'],\n",
       " [(2, 0.9906316), '13v'],\n",
       " [(2, 0.9928187), '14r'],\n",
       " [(2, 0.9924895), '14v'],\n",
       " [(2, 0.9900954), '15r'],\n",
       " [(2, 0.90947056), '15v'],\n",
       " [(1, 0.43472815), (2, 0.51470387), '16r'],\n",
       " [(2, 0.69839543), '16v'],\n",
       " [(2, 0.55863607), '17r'],\n",
       " [(2, 0.48655245), '17v'],\n",
       " [(2, 0.70786315), '18r'],\n",
       " [(2, 0.9687217), '18v'],\n",
       " [(2, 0.8040395), '19r'],\n",
       " [(2, 0.9603543), '19v'],\n",
       " [(2, 0.8945361), '1r'],\n",
       " [(2, 0.99353653), '1v'],\n",
       " [(2, 0.8906006), '20r'],\n",
       " [(2, 0.82289195), '20v'],\n",
       " [(0, 0.36436716), (2, 0.6316181), '21r'],\n",
       " [(2, 0.99194473), '21v'],\n",
       " [(2, 0.9954813), '22r'],\n",
       " [(2, 0.99127525), '22v'],\n",
       " [(2, 0.96988016), '23r'],\n",
       " [(2, 0.8007155), '23v'],\n",
       " [(2, 0.83354867), '24r'],\n",
       " [(2, 0.9607477), '24v'],\n",
       " [(2, 0.9910689), '25r'],\n",
       " [(2, 0.9919225), '25v'],\n",
       " [(1, 0.41721472), (3, 0.33000988), '26r'],\n",
       " [(3, 0.75221014), '26v'],\n",
       " [(2, 0.9934134), '27r'],\n",
       " [(2, 0.9575142), '27v'],\n",
       " [(2, 0.9909947), '28r'],\n",
       " [(2, 0.9529029), '28v'],\n",
       " [(2, 0.9919643), '29r'],\n",
       " [(2, 0.99278563), '29v'],\n",
       " [(2, 0.9916644), '2r'],\n",
       " [(2, 0.75873196), '2v'],\n",
       " [(2, 0.88416386), '30r'],\n",
       " [(2, 0.96680176), '30v'],\n",
       " [(1, 0.5361419), (3, 0.46080336), '31r'],\n",
       " [(3, 0.9120331), '31v'],\n",
       " [(2, 0.9899079), '32r'],\n",
       " [(2, 0.97092366), '32v'],\n",
       " [(3, 0.79413074), '33r'],\n",
       " [(3, 0.8781747), '33v'],\n",
       " [(3, 0.93629265), '34r'],\n",
       " [(3, 0.9971219), '34v'],\n",
       " [(2, 0.85667706), '35r'],\n",
       " [(2, 0.9231493), '35v'],\n",
       " [(2, 0.9902146), '36r'],\n",
       " [(2, 0.91455746), '36v'],\n",
       " [(2, 0.99348146), '37r'],\n",
       " [(2, 0.9929511), '37v'],\n",
       " [(2, 0.98263913), '38r'],\n",
       " [(2, 0.41913188), (3, 0.5780974), '38v'],\n",
       " [(3, 0.49818638), '39r'],\n",
       " [(3, 0.8997788), '39v'],\n",
       " [(2, 0.548347), '3r'],\n",
       " [(2, 0.9942696), '3v'],\n",
       " [(3, 0.99501777), '40r'],\n",
       " [(3, 0.9951148), '40v'],\n",
       " [(3, 0.35680115), '41r'],\n",
       " [(3, 0.9934551), '41v'],\n",
       " [(2, 0.99649626), '42r'],\n",
       " [(2, 0.8452855), '42v'],\n",
       " [(3, 0.9553257), '43r'],\n",
       " [(3, 0.85496104), '43v'],\n",
       " [(2, 0.9941299), '44r'],\n",
       " [(2, 0.95197475), '44v'],\n",
       " [(2, 0.7660495), '45r'],\n",
       " [(2, 0.8109913), '45v'],\n",
       " [(3, 0.98085964), '46r'],\n",
       " [(3, 0.7121502), '46v'],\n",
       " [(2, 0.99436414), '47r'],\n",
       " [(2, 0.8980465), '47v'],\n",
       " [(3, 0.9747849), '48r'],\n",
       " [(3, 0.9963772), '48v'],\n",
       " [(0, 0.36241338), (2, 0.633409), '49r'],\n",
       " [(0, 0.35205993), (2, 0.64396584), '49v'],\n",
       " [(2, 0.9898176), '4r'],\n",
       " [(2, 0.9591417), '4v'],\n",
       " [(3, 0.9959076), '50r'],\n",
       " [(3, 0.9358141), '50v'],\n",
       " [(2, 0.5264226), '51r'],\n",
       " [(2, 0.7686673), '51v'],\n",
       " [(2, 0.7767603), '52r'],\n",
       " [(0, 0.46982023), (2, 0.4852422), '52v'],\n",
       " [(2, 0.8881276), '53r'],\n",
       " [(2, 0.93915635), '53v'],\n",
       " [(2, 0.91446716), '54r'],\n",
       " [(2, 0.47412455), (3, 0.52418375), '54v'],\n",
       " [(3, 0.99708664), '55r'],\n",
       " [(3, 0.95990115), '55v'],\n",
       " [(2, 0.9146765), '56r'],\n",
       " [(2, 0.7468376), '56v'],\n",
       " [(3, 0.74459034), '57r'],\n",
       " [(2, 0.66699225), (3, 0.3312202), '57v'],\n",
       " [(3, 0.5238088), (4, 0.35997197), '58r'],\n",
       " [(3, 0.95534354), '58v'],\n",
       " [(0, 0.5071118), (2, 0.4258292), '5r'],\n",
       " [(2, 0.9904987), '5v'],\n",
       " [(3, 0.92745006), '65r'],\n",
       " [(1, 0.447385), (3, 0.34402338), '65v'],\n",
       " [(3, 0.90043956), '66r'],\n",
       " [(3, 0.97835755), '66v'],\n",
       " [(0, 0.49548948), (3, 0.5026959), '67r1'],\n",
       " [(3, 0.543828), (4, 0.41308692), '67r2'],\n",
       " [(4, 0.6941035), '67v1'],\n",
       " [(0, 0.88129914), '67v2'],\n",
       " [(4, 0.39345872), '68r1'],\n",
       " [(3, 0.7906044), '68r2'],\n",
       " [(1, 0.64451), '68r3'],\n",
       " [(0, 0.69630736), '68v1'],\n",
       " [(0, 0.53508186), (3, 0.3601157), '68v2'],\n",
       " [(2, 0.6706761), '68v3'],\n",
       " [(3, 0.4494889), (4, 0.41504988), '69r'],\n",
       " [(3, 0.83510596), '69v'],\n",
       " [(2, 0.84035206), '6r'],\n",
       " [(2, 0.9734476), '6v'],\n",
       " [(3, 0.90904933), '70r1'],\n",
       " [(0, 0.36133686), (3, 0.55048543), '70r2'],\n",
       " [(1, 0.5829806), (3, 0.4139734), '70v1'],\n",
       " [(1, 0.41674823), '70v2'],\n",
       " [(3, 0.99590373), '71r'],\n",
       " [(0, 0.48403946), (3, 0.51288253), '71v'],\n",
       " [(3, 0.90739554), '72r1'],\n",
       " [(3, 0.99603325), '72r2'],\n",
       " [(1, 0.54815036), (3, 0.449901), '72r3'],\n",
       " [(1, 0.59353316), (3, 0.40312627), '72v1'],\n",
       " [(1, 0.62109065), '72v2'],\n",
       " [(1, 0.61913973), (3, 0.34756812), '72v3'],\n",
       " [(1, 0.50404775), (3, 0.46817583), '73r'],\n",
       " [(3, 0.9474744), '73v'],\n",
       " [(1, 0.8852054), '75r'],\n",
       " [(1, 0.97086495), '75v'],\n",
       " [(1, 0.86070174), '76r'],\n",
       " [(1, 0.8650444), '76v'],\n",
       " [(1, 0.936849), '77r'],\n",
       " [(1, 0.8409711), '77v'],\n",
       " [(1, 0.8178713), '78r'],\n",
       " [(1, 0.78982633), '78v'],\n",
       " [(1, 0.7783307), '79r'],\n",
       " [(1, 0.8951718), '79v'],\n",
       " [(2, 0.9883838), '7r'],\n",
       " [(2, 0.8489349), '7v'],\n",
       " [(1, 0.8421998), '80r'],\n",
       " [(1, 0.8339348), '80v'],\n",
       " [(1, 0.8013221), '81r'],\n",
       " [(1, 0.6910784), '81v'],\n",
       " [(1, 0.90610147), '82r'],\n",
       " [(1, 0.9537535), '82v'],\n",
       " [(1, 0.78999054), '83r'],\n",
       " [(1, 0.85709083), '83v'],\n",
       " [(1, 0.8329571), '84r'],\n",
       " [(1, 0.9206811), '84v'],\n",
       " [(3, 0.99271315), '85r1'],\n",
       " [(3, 0.99741983), '85r2'],\n",
       " [(3, 0.94740623), '86v3'],\n",
       " [(3, 0.99826884), '86v4'],\n",
       " [(3, 0.9581992), '86v5'],\n",
       " [(3, 0.99929976), '86v6'],\n",
       " [(0, 0.5889777), '87r'],\n",
       " [(0, 0.9331903), '87v'],\n",
       " [(3, 0.66674113), '88r'],\n",
       " [(3, 0.84348863), '88v'],\n",
       " [(3, 0.5491906), '89r1'],\n",
       " [(3, 0.63747257), '89r2'],\n",
       " [(2, 0.6586025), (3, 0.3405634), '89v1'],\n",
       " [(2, 0.60462785), (3, 0.39444914), '89v2'],\n",
       " [(2, 0.9774447), '8r'],\n",
       " [(2, 0.9944673), '8v'],\n",
       " [(0, 0.5461196), (2, 0.4479906), '90r1'],\n",
       " [(0, 0.3860365), (3, 0.41375655), '90r2'],\n",
       " [(0, 0.7316696), '90v1'],\n",
       " [(0, 0.61429554), (3, 0.38034272), '90v2'],\n",
       " [(0, 0.4256181), (2, 0.57060224), '93r'],\n",
       " [(2, 0.89543605), '93v'],\n",
       " [(3, 0.9957704), '94r'],\n",
       " [(3, 0.9035571), '94v'],\n",
       " [(3, 0.99683326), '95r1'],\n",
       " [(3, 0.99576366), '95r2'],\n",
       " [(3, 0.99725085), '95v1'],\n",
       " [(3, 0.94343776), '95v2'],\n",
       " [(0, 0.56796825), '96r'],\n",
       " [(0, 0.77246463), '96v'],\n",
       " [(3, 0.37858737), '99r'],\n",
       " [(2, 0.41879994), (3, 0.5801207), '99v'],\n",
       " [(2, 0.9073864), '9r'],\n",
       " [(2, 0.99326855), '9v']]"
      ]
     },
     "execution_count": 180,
     "metadata": {},
     "output_type": "execute_result"
    }
   ],
   "source": [
    "doctopics"
   ]
  },
  {
   "cell_type": "code",
   "execution_count": 102,
   "metadata": {},
   "outputs": [
    {
     "name": "stderr",
     "output_type": "stream",
     "text": [
      "c:\\_projects\\final_project_challenge\\fpenv\\lib\\site-packages\\pyLDAvis\\_prepare.py:247: FutureWarning: In a future version of pandas all arguments of DataFrame.drop except for the argument 'labels' will be keyword-only.\n",
      "  by='saliency', ascending=False).head(R).drop('saliency', 1)\n"
     ]
    },
    {
     "data": {
      "text/html": [
       "\n",
       "<link rel=\"stylesheet\" type=\"text/css\" href=\"https://cdn.jsdelivr.net/gh/bmabey/pyLDAvis@3.3.1/pyLDAvis/js/ldavis.v1.0.0.css\">\n",
       "\n",
       "\n",
       "<div id=\"ldavis_el3410420262041368325414937570\"></div>\n",
       "<script type=\"text/javascript\">\n",
       "\n",
       "var ldavis_el3410420262041368325414937570_data = {\"mdsDat\": {\"x\": [-0.3416089023493433, -0.10892939045391092, -0.20262957341087687, 0.2445868367962182, 0.12712438910456933, 0.08350630551451416, 0.044622732788995645, 0.05637540682329674, 0.04455894111995112, 0.052393254066585876], \"y\": [-0.10893649628629497, -0.29604012164018856, 0.22537079354523504, -0.20472419649148527, 0.061072353149969005, 0.09902394012117044, 0.08933812625900892, 0.026205579190773244, 0.05380981408812801, 0.05488020806368418], \"topics\": [1, 2, 3, 4, 5, 6, 7, 8, 9, 10], \"cluster\": [1, 1, 1, 1, 1, 1, 1, 1, 1, 1], \"Freq\": [34.61507965946045, 25.02904406671192, 23.994013857007268, 13.884003723117603, 0.8556356600624043, 0.5998701182467139, 0.46609923409656706, 0.4083980719380496, 0.1191428914173952, 0.028712717941629343]}, \"tinfo\": {\"Term\": [\"chedy\", \"shedy\", \"daiin\", \"chol\", \"qokedy\", \"qokeedy\", \"chor\", \"qol\", \"qokai\", \"cthy\", \"aiin\", \"chy\", \"chey\", \"qokal\", \"shol\", \"qokeey\", \"shey\", \"otaiin\", \"sho\", \"chdy\", \"chedy\", \"shedy\", \"qokedy\", \"qokeedy\", \"qol\", \"qokai\", \"okedy\", \"lchedy\", \"okai\", \"qotedy\", \"sheedy\", \"qokain\", \"qoteedy\", \"keedy\", \"kai\", \"cheedy\", \"qotal\", \"kedy\", \"tedy\", \"qotai\", \"qokal\", \"qokeey\", \"otedy\", \"okeedy\", \"shey\", \"chey\", \"chckhy\", \"qokaiin\", \"qoky\", \"dar\", \"dal\", \"qokar\", \"aiin\", \"daiin\", \"cheor\", \"okol\", \"okeol\", \"qokeol\", \"kol\", \"ckhey\", \"okor\", \"chear\", \"oteol\", \"choky\", \"chos\", \"olky\", \"cheos\", \"okeeey\", \"okchey\", \"she\", \"qokeeo\", \"ols\", \"chs\", \"okeo\", \"dam\", \"cthey\", \"cheol\", \"chol\", \"dol\", \"qokol\", \"sheol\", \"daiin\", \"chey\", \"dal\", \"saiin\", \"okeey\", \"aiin\", \"chor\", \"shey\", \"sheey\", \"dar\", \"air\", \"ykaiin\", \"ytaiin\", \"otam\", \"oteody\", \"olkai\", \"qokeody\", \"ykar\", \"daly\", \"otchdy\", \"oteos\", \"ytar\", \"sair\", \"okchedy\", \"okchdy\", \"qotchdy\", \"oteo\", \"sheos\", \"qotchey\", \"okair\", \"otaiin\", \"ody\", \"chdy\", \"otal\", \"okar\", \"aiin\", \"otar\", \"kaiin\", \"okaiin\", \"qotaiin\", \"okal\", \"dar\", \"dair\", \"qokar\", \"qokaiin\", \"daiin\", \"oteey\", \"dal\", \"cthy\", \"cthor\", \"tchy\", \"dchy\", \"ckhol\", \"otchol\", \"cthody\", \"dchol\", \"dchor\", \"kchol\", \"olol\", \"kchor\", \"cphy\", \"ytal\", \"ctho\", \"ykol\", \"cthar\", \"otoldy\", \"qokchol\", \"ytchey\", \"qotchy\", \"chy\", \"dain\", \"shor\", \"chor\", \"chaiin\", \"sho\", \"daiin\", \"shy\", \"chol\", \"shol\", \"oty\", \"qokchy\", \"cho\", \"dor\", \"dar\", \"oky\", \"ytol\", \"olkey\", \"ykeeody\", \"ockhy\", \"sholdy\", \"qoeol\", \"oldaiin\", \"dom\", \"oteeor\", \"ytchol\", \"yteor\", \"qool\", \"cheory\", \"ckhedy\", \"doly\", \"shchy\", \"chepchy\", \"opcheor\", \"ysaiin\", \"sody\", \"shockhy\", \"okeos\", \"dsho\", \"choiin\", \"cthom\", \"cphey\", \"oksho\", \"kodaiin\", \"yto\", \"otchody\", \"otory\", \"schol\", \"chodain\", \"dchaiin\", \"shom\", \"eeor\", \"oksedy\", \"choteol\", \"loy\", \"choror\", \"odan\", \"dan\", \"chory\", \"cheodai\", \"ofaiin\", \"kchody\", \"cphaiin\", \"okeeos\", \"chocthey\", \"cheodar\", \"chso\", \"chotor\", \"tocheo\", \"ycheoky\", \"otorain\", \"ykyd\", \"chotols\", \"otaim\", \"shockhey\", \"soe\", \"chcpy\", \"chockhey\", \"cthol\", \"ykeody\", \"koiin\", \"oldam\", \"cheaiin\", \"oteod\", \"ararchodaiin\", \"okchshy\", \"eeey\", \"cfhey\", \"ecsy\", \"odees\", \"ofcheesy\", \"opals\", \"oraiiny\", \"qokeoly\", \"yfaiin\", \"otechg\", \"airar\", \"alet\", \"otaldy\", \"ytam\", \"yta\", \"chols\", \"otyda\", \"sorory\", \"dokor\", \"otala\", \"otorar\", \"sairaly\", \"soraly\", \"rolsy\", \"tolchd\", \"ore\", \"aroshol\", \"chofary\", \"sochorcfhy\", \"daiindy\", \"chalsain\", \"dakocth\", \"chedyty\", \"cheedls\", \"arom\", \"chalsain\", \"dakocth\", \"oity\", \"osam\", \"sofal\", \"dolary\", \"dytoly\", \"olara\", \"aro\", \"dainod\", \"ychealod\", \"okchodeey\", \"dardsh\", \"dordod\", \"orolaly\", \"otodeeodor\", \"olkchdal\", \"oparairdly\", \"otardaly\", \"olkor\", \"odor\", \"orar\", \"okol\", \"airol\", \"aithchr\", \"akal\", \"alkain\", \"aloiiin\", \"araii\"], \"Freq\": [536.0, 485.0, 808.0, 346.0, 280.0, 279.0, 202.0, 201.0, 197.0, 103.0, 505.0, 151.0, 360.0, 221.0, 179.0, 267.0, 285.0, 130.0, 110.0, 174.0, 536.1872707231552, 484.9444840327711, 279.6507082321366, 278.9799154149947, 200.59997690423745, 197.4008583859573, 117.30147467563826, 97.80221121204384, 95.44849037320968, 88.56090951041594, 87.64299476402068, 83.60117301559558, 70.11455611389648, 64.46336367280034, 63.02052017902233, 58.776336192898206, 57.78391480728495, 55.78223457017277, 54.03064356724043, 46.38329621544698, 209.43376872929107, 224.03270432600954, 130.43002541388722, 90.979234603062, 199.38135820514574, 228.82343518333926, 106.33434977420423, 161.85323887439517, 114.97697212669351, 117.70633557884902, 109.36001169760398, 98.25041068375982, 109.89418342929805, 108.2431908847651, 89.9544124782493, 89.76971327880962, 81.51308855805077, 56.621624318379155, 47.60464442125514, 44.136248621487184, 40.78235267926755, 40.59899753889447, 33.61338823436158, 33.204420243328826, 32.62104106461085, 30.783761643836105, 29.141111840558853, 28.873900978328734, 28.46379444184813, 25.642263032765076, 25.156496657543023, 24.09229165099765, 23.46216634455964, 23.299570134816136, 81.96270303259917, 50.56056324077258, 124.90728093578596, 196.81324079939324, 94.62244059390785, 83.13736133353973, 89.23142378804458, 275.62575709894645, 131.68532559565747, 110.08414261265878, 67.51626295208918, 70.21635019844649, 120.6938982680627, 78.59389091193091, 85.53665884749996, 59.550888021545205, 70.09455460743268, 83.9684464425851, 49.2156935245662, 45.04046538200135, 42.65827845293567, 40.9748997175992, 37.333136916955745, 34.697947290884954, 32.82917154892736, 31.99059107764339, 31.68416185836427, 26.256743935821508, 25.878697801165778, 24.249027319524714, 23.402729771474487, 21.954663758089715, 21.589748671850405, 19.977638135375955, 19.641055773409178, 18.595702170175034, 18.555788905378616, 116.6514348465088, 49.39891745595802, 119.837537461129, 103.7437620144089, 95.62536573391124, 274.2197287975114, 101.17294506290044, 60.83857256764944, 97.23132152241077, 50.74343436600921, 77.7422056717206, 105.37227207781781, 54.77575572268764, 65.46081981921515, 77.37641977926972, 104.81861270044732, 57.526254276247684, 51.29859105722763, 103.23687657756636, 39.62294498373276, 30.639135368228704, 27.950470740264894, 27.290852742806244, 25.89787821287774, 25.388051518552288, 21.396760933318635, 21.304013766342177, 19.36288747375381, 17.999050620711476, 17.55619418456037, 17.441446982819276, 16.763127017782953, 15.664993766284487, 15.592722432265209, 15.534507499357337, 15.478116592546648, 13.395786739693873, 13.227220507939117, 39.606606269967244, 110.1219093249026, 62.61897551853855, 70.31135869700945, 123.16151620856715, 31.73334810363454, 70.04450823905698, 320.12088475701495, 62.18766174753367, 149.1276768383929, 91.70998013694721, 54.75020901647015, 33.83140220146134, 36.495045751437054, 33.6047897592127, 44.682962099729366, 30.77424554131221, 4.783921730753003, 4.023580606976906, 3.346720818650099, 2.9803887789512697, 2.2982503544418336, 2.2486183595776086, 2.0276148305171664, 1.9855705151019776, 1.7898536303683619, 1.5784122635646944, 1.4937539947253098, 1.261204265744752, 1.2104079836228467, 1.1586486985175346, 1.1225231946103416, 1.1163542004494011, 0.9490635029272334, 0.91165020120244, 0.8072573617041878, 0.7818401109320302, 1.5991273310234764, 3.2440482117541345, 2.248860632824269, 2.1452521622834917, 1.7943382003119441, 1.4379015294068334, 1.3753821827702326, 1.1668725837987308, 1.1048743589604704, 1.0550447714117697, 0.9577872880806318, 0.8291835897488039, 0.8061677874501821, 0.7687549364819903, 0.634776640109568, 0.5576740595106064, 0.5347884884062013, 0.5146144745910614, 0.47174309443441403, 0.4496847179879791, 0.4455120494486227, 2.6855068155366553, 2.390682672214427, 1.2900616038914299, 1.26709353869969, 0.9288138662468114, 0.9096400310014655, 0.6823219512350737, 0.6274326016296916, 0.6045306694755488, 0.5373057096009338, 0.500415683209176, 0.3807265962173071, 0.3633856564792509, 0.29275310381815156, 0.29275310381815156, 0.28856286021056826, 0.2624751373644976, 0.3471734944095319, 0.24559446902497184, 0.2263167077011568, 0.23403571145461802, 8.209548195648155, 2.5166091428900983, 1.095591016947139, 0.7660845469479686, 0.671426269540273, 0.5640737181887866, 0.26111609176217015, 0.26111609176217015, 0.23705285834704584, 0.23643003901358742, 0.20181547884117945, 0.20181547884117945, 0.20181547884117945, 0.20181547884117945, 0.20181547884117945, 0.20181547884117945, 0.20181547884117945, 0.17725822860483567, 0.15696274532480295, 0.15696274532480295, 0.5130205337205958, 0.47175335063080126, 0.21782766816118881, 0.0984629646315029, 0.08338113854217039, 0.08338113854217039, 0.03105469918130967, 0.03105469918130967, 0.03105469918130967, 0.03105469918130967, 0.03105469918130967, 0.03104523673959257, 0.03104523673959257, 0.03104523673959257, 0.031039455087429422, 0.031039455087429422, 0.031039455087429422, 0.05644790869273672, 0.0054801068417884196, 0.0054801068417884196, 0.005729241877602418, 0.005729241877602418, 0.01479310916121494, 0.0077616912693624605, 0.0077616912693624605, 0.0077616912693624605, 0.0077616912693624605, 0.0077616912693624605, 0.007757284909631494, 0.007757284909631494, 0.007757284909631494, 0.007638400428200938, 0.0013695185300908693, 0.0013695185300908693, 0.0013695185300908693, 0.0013695185300908693, 0.0013695185300908693, 0.0013695185300908693, 0.0013695185300908693, 0.0013695185300908693, 0.0013695185300908693, 0.0013695185300908693, 0.0013699959446684619, 0.001369971484538869, 0.0013698678973635458, 0.0013695547782347234, 0.0013695541888340103, 0.0013695541888340103, 0.0013695541888340103, 0.0013695541888340103, 0.0013695541888340103, 0.0013695541888340103], \"Total\": [536.0, 485.0, 808.0, 346.0, 280.0, 279.0, 202.0, 201.0, 197.0, 103.0, 505.0, 151.0, 360.0, 221.0, 179.0, 267.0, 285.0, 130.0, 110.0, 174.0, 536.6009546478278, 485.35815444769656, 280.0643688517705, 279.3935719352064, 201.01365867988133, 197.81451923529346, 117.71515631080793, 98.21586711818092, 95.86219202032522, 88.97457291279221, 88.05667563253674, 84.01484120403163, 70.52822291748569, 64.87704729309338, 63.434208290126, 59.19005847123995, 58.197681813541216, 56.1959092364679, 54.44432274021456, 46.79696711719557, 221.2794298723646, 267.15493611731233, 148.37930470473256, 98.59273815018865, 285.2315107552525, 360.8222649171301, 130.1747534398901, 247.1279524109168, 151.8205901950304, 337.9542929547812, 295.99969546097867, 164.01149596508864, 505.00784292862437, 808.9066141444832, 90.37788947853737, 90.19318750091382, 81.93653340109671, 57.045055872357196, 48.028140987259775, 44.55971251580525, 41.20584886954638, 41.022493732984536, 34.03687261245438, 33.62790754175735, 33.044493762720265, 31.20747446040886, 29.564562277645663, 29.297361707138418, 28.88730802770503, 26.065748992149288, 25.579968165975462, 24.515837275677516, 23.885646192957047, 23.72301615214465, 97.31993261056307, 59.04182575308902, 178.47966933024756, 346.26253068680785, 139.27526616943118, 122.49632116230701, 145.62483921017545, 808.9066141444832, 360.8222649171301, 295.99969546097867, 122.57745466650867, 138.04307123312162, 505.00784292862437, 202.0769927498707, 285.2315107552525, 136.90567499864085, 337.9542929547812, 84.37870355057485, 49.62597304662196, 45.45076092092626, 43.068551451560836, 41.385188302637374, 37.743798058045584, 35.10830420374701, 33.239431791511194, 32.40093491055006, 32.09442189610106, 26.666987225931635, 26.288918842274196, 24.6593233430113, 23.812955546864583, 22.3650369948887, 21.999980822075496, 20.387885630777554, 20.05130212216321, 19.006077986539147, 18.966019582397486, 130.3313903682919, 60.58438833263247, 174.2546498965315, 147.94701171413706, 136.47830603347617, 505.00784292862437, 149.0861927052593, 84.4454763139669, 177.2183186741292, 73.56606890645853, 147.94604095888513, 337.9542929547812, 97.50192558670754, 164.01149596508864, 247.1279524109168, 808.9066141444832, 126.46651788277622, 295.99969546097867, 103.65869793403, 40.0447581410477, 31.060986127726256, 28.37226711215088, 27.712724407817984, 26.319729616720792, 25.809924802488105, 21.818632978221853, 21.725793866505665, 19.784753341898604, 18.42144704744856, 17.97799105877099, 17.863260680686928, 17.185134300291825, 16.086760701491947, 16.014607992389873, 15.956419079479517, 15.90003445267953, 13.81793458058342, 13.649187636238661, 45.47166009922887, 151.42424835008717, 80.74398194513434, 96.78542908786886, 202.0769927498707, 39.718581181086925, 110.0955105741294, 808.9066141444832, 98.55210682054917, 346.26253068680785, 179.3163939276684, 130.21155972994282, 54.683464784159845, 80.95293563928448, 73.4109339761033, 337.9542929547812, 101.68903609393391, 5.276836185279686, 4.51685639920618, 3.839398378253954, 3.473405554444476, 2.7916947577551094, 2.7415422254567536, 2.5207954555755716, 2.4783736921233688, 2.28259370657719, 2.071299687323726, 1.9869583553991426, 1.7558215051005392, 1.7040279679741275, 1.6517806906413506, 1.615219648364096, 1.609075822233706, 1.4421492928865307, 1.404511537685409, 1.3000160406152004, 1.2745296719404877, 2.9536876256061015, 3.743928514502486, 2.7489795472180294, 2.645148747278399, 2.294263924896269, 1.9389975274264761, 1.8754218676756242, 1.6670139417628482, 1.6048183721368696, 1.554875683276913, 1.4583207037487553, 1.3290511609123945, 1.3061858394288972, 1.2685406679072269, 1.1348535167958023, 1.0574328618992408, 1.0349661820523086, 1.0145126036692054, 0.9718911983209169, 0.9496979878203491, 0.9453782216513177, 3.1901438767586723, 2.895385673180094, 1.7950784375373618, 1.7716016973039805, 1.4336177910167367, 1.4143101149415116, 1.186895998454909, 1.132229183956775, 1.1096959158737867, 1.042085660388081, 1.0048385770550075, 0.8854668031504768, 0.8678384076068447, 0.7971289128643171, 0.7971289128643171, 0.7930604315396066, 0.7672916319986613, 1.0511195421024797, 0.7499366848557517, 0.73067725305116, 2.666297416591534, 8.716236474255188, 3.0233160041024836, 1.6022244658650775, 1.272707252480619, 1.178226159901568, 1.070610945505895, 0.7675689964575818, 0.7675689964575818, 0.7435056481690692, 0.7429678681316781, 0.7082610395653812, 0.7082610395653812, 0.7082610395653812, 0.7082610395653812, 0.7082610395653812, 0.7082610395653812, 0.7082610395653812, 0.6837726257598868, 0.6633915503518786, 0.6633915503518786, 1.0319307461436467, 0.990412641085003, 0.7361212405670442, 0.6169950232458958, 0.6015162778738048, 0.6015162778738048, 0.5491602497657356, 0.5491602497657356, 0.5491602497657356, 0.5491602497657356, 0.5491602497657356, 0.5491529028159807, 0.5491529028159807, 0.5491536387556215, 0.5491506501655838, 0.5491506501655838, 0.5491506501655838, 1.0832274017483345, 0.5299758194336395, 0.5299758194336395, 0.5583711021494625, 0.5583711021494625, 0.5376430641922815, 0.5299758194336395, 0.5299758194336395, 0.5299758194336395, 0.5299758194336395, 0.5299758194336395, 0.5299802598896789, 0.5299802598896789, 0.5299802598896789, 1.5968817433116411, 0.5319573827957945, 0.5319573827957945, 0.5324876651860837, 0.5335046454127554, 0.5335046454127554, 0.5335046454127554, 0.5335046454127554, 0.5345463193619397, 0.5345463193619397, 0.5345463193619397, 8.104423968519066, 8.522494117408348, 10.152233841001276, 90.19318750091382, 1.1250244924797832, 1.1250244924797832, 1.1250244924797832, 1.1250244924797832, 1.1250244924797832, 1.1250244924797832], \"Category\": [\"Default\", \"Default\", \"Default\", \"Default\", \"Default\", \"Default\", \"Default\", \"Default\", \"Default\", \"Default\", \"Default\", \"Default\", \"Default\", \"Default\", \"Default\", \"Default\", \"Default\", \"Default\", \"Default\", \"Default\", \"Topic1\", \"Topic1\", \"Topic1\", \"Topic1\", \"Topic1\", \"Topic1\", \"Topic1\", \"Topic1\", \"Topic1\", \"Topic1\", \"Topic1\", \"Topic1\", \"Topic1\", \"Topic1\", \"Topic1\", \"Topic1\", \"Topic1\", \"Topic1\", \"Topic1\", \"Topic1\", \"Topic1\", \"Topic1\", \"Topic1\", \"Topic1\", \"Topic1\", \"Topic1\", \"Topic1\", \"Topic1\", \"Topic1\", \"Topic1\", \"Topic1\", \"Topic1\", \"Topic1\", \"Topic1\", \"Topic2\", \"Topic2\", \"Topic2\", \"Topic2\", \"Topic2\", \"Topic2\", \"Topic2\", \"Topic2\", \"Topic2\", \"Topic2\", \"Topic2\", \"Topic2\", \"Topic2\", \"Topic2\", \"Topic2\", \"Topic2\", \"Topic2\", \"Topic2\", \"Topic2\", \"Topic2\", \"Topic2\", \"Topic2\", \"Topic2\", \"Topic2\", \"Topic2\", \"Topic2\", \"Topic2\", \"Topic2\", \"Topic2\", \"Topic2\", \"Topic2\", \"Topic2\", \"Topic2\", \"Topic2\", \"Topic2\", \"Topic2\", \"Topic2\", \"Topic3\", \"Topic3\", \"Topic3\", \"Topic3\", \"Topic3\", \"Topic3\", \"Topic3\", \"Topic3\", \"Topic3\", \"Topic3\", \"Topic3\", \"Topic3\", \"Topic3\", \"Topic3\", \"Topic3\", \"Topic3\", \"Topic3\", \"Topic3\", \"Topic3\", \"Topic3\", \"Topic3\", \"Topic3\", \"Topic3\", \"Topic3\", \"Topic3\", \"Topic3\", \"Topic3\", \"Topic3\", \"Topic3\", \"Topic3\", \"Topic3\", \"Topic3\", \"Topic3\", \"Topic3\", \"Topic3\", \"Topic3\", \"Topic3\", \"Topic3\", \"Topic4\", \"Topic4\", \"Topic4\", \"Topic4\", \"Topic4\", \"Topic4\", \"Topic4\", \"Topic4\", \"Topic4\", \"Topic4\", \"Topic4\", \"Topic4\", \"Topic4\", \"Topic4\", \"Topic4\", \"Topic4\", \"Topic4\", \"Topic4\", \"Topic4\", \"Topic4\", \"Topic4\", \"Topic4\", \"Topic4\", \"Topic4\", \"Topic4\", \"Topic4\", \"Topic4\", \"Topic4\", \"Topic4\", \"Topic4\", \"Topic4\", \"Topic4\", \"Topic4\", \"Topic4\", \"Topic4\", \"Topic4\", \"Topic4\", \"Topic5\", \"Topic5\", \"Topic5\", \"Topic5\", \"Topic5\", \"Topic5\", \"Topic5\", \"Topic5\", \"Topic5\", \"Topic5\", \"Topic5\", \"Topic5\", \"Topic5\", \"Topic5\", \"Topic5\", \"Topic5\", \"Topic5\", \"Topic5\", \"Topic5\", \"Topic5\", \"Topic5\", \"Topic6\", \"Topic6\", \"Topic6\", \"Topic6\", \"Topic6\", \"Topic6\", \"Topic6\", \"Topic6\", \"Topic6\", \"Topic6\", \"Topic6\", \"Topic6\", \"Topic6\", \"Topic6\", \"Topic6\", \"Topic6\", \"Topic6\", \"Topic6\", \"Topic6\", \"Topic6\", \"Topic7\", \"Topic7\", \"Topic7\", \"Topic7\", \"Topic7\", \"Topic7\", \"Topic7\", \"Topic7\", \"Topic7\", \"Topic7\", \"Topic7\", \"Topic7\", \"Topic7\", \"Topic7\", \"Topic7\", \"Topic7\", \"Topic7\", \"Topic7\", \"Topic7\", \"Topic7\", \"Topic7\", \"Topic8\", \"Topic8\", \"Topic8\", \"Topic8\", \"Topic8\", \"Topic8\", \"Topic8\", \"Topic8\", \"Topic8\", \"Topic8\", \"Topic8\", \"Topic8\", \"Topic8\", \"Topic8\", \"Topic8\", \"Topic8\", \"Topic8\", \"Topic8\", \"Topic8\", \"Topic8\", \"Topic9\", \"Topic9\", \"Topic9\", \"Topic9\", \"Topic9\", \"Topic9\", \"Topic9\", \"Topic9\", \"Topic9\", \"Topic9\", \"Topic9\", \"Topic9\", \"Topic9\", \"Topic9\", \"Topic9\", \"Topic9\", \"Topic9\", \"Topic9\", \"Topic9\", \"Topic9\", \"Topic9\", \"Topic9\", \"Topic10\", \"Topic10\", \"Topic10\", \"Topic10\", \"Topic10\", \"Topic10\", \"Topic10\", \"Topic10\", \"Topic10\", \"Topic10\", \"Topic10\", \"Topic10\", \"Topic10\", \"Topic10\", \"Topic10\", \"Topic10\", \"Topic10\", \"Topic10\", \"Topic10\", \"Topic10\", \"Topic10\", \"Topic10\", \"Topic10\", \"Topic10\", \"Topic10\", \"Topic10\", \"Topic10\", \"Topic10\", \"Topic10\", \"Topic10\"], \"logprob\": [20.0, 19.0, 18.0, 17.0, 16.0, 15.0, 14.0, 13.0, 12.0, 11.0, 10.0, 9.0, 8.0, 7.0, 6.0, 5.0, 4.0, 3.0, 2.0, 1.0, -3.1253, -3.2258, -3.7763, -3.7787, -4.1085, -4.1246, -4.645, -4.8268, -4.8512, -4.9261, -4.9365, -4.9837, -5.1597, -5.2437, -5.2663, -5.3361, -5.3531, -5.3883, -5.4202, -5.5729, -4.0654, -3.998, -4.539, -4.8992, -4.1146, -3.9768, -4.7432, -4.3231, -4.6651, -4.6416, -4.7151, -4.8223, -4.7103, -4.7254, -4.5862, -4.5883, -4.6848, -5.0492, -5.2226, -5.2983, -5.3773, -5.3818, -5.5706, -5.5829, -5.6006, -5.6586, -5.7134, -5.7226, -5.7369, -5.8413, -5.8604, -5.9036, -5.9302, -5.9371, -4.6793, -5.1624, -4.258, -3.8033, -4.5356, -4.665, -4.5943, -3.4665, -4.2051, -4.3843, -4.8732, -4.834, -4.2923, -4.7212, -4.6366, -4.9987, -4.8357, -4.6129, -5.1471, -5.2357, -5.2901, -5.3303, -5.4234, -5.4966, -5.552, -5.5779, -5.5875, -5.7754, -5.7899, -5.8549, -5.8905, -5.9543, -5.9711, -6.0487, -6.0657, -6.1204, -6.1225, -4.2841, -5.1434, -4.2572, -4.4014, -4.4829, -3.4294, -4.4265, -4.9351, -4.4662, -5.1165, -4.6899, -4.3858, -5.0401, -4.8619, -4.6946, -4.3911, -4.9911, -5.1056, -3.8592, -4.8168, -5.074, -5.1658, -5.1897, -5.2421, -5.262, -5.433, -5.4373, -5.5329, -5.6059, -5.6308, -5.6374, -5.6771, -5.7448, -5.7494, -5.7532, -5.7568, -5.9013, -5.914, -4.8172, -3.7947, -4.3592, -4.2433, -3.6827, -5.0389, -4.2471, -2.7275, -4.3661, -3.4914, -3.9776, -4.4935, -4.9749, -4.8991, -4.9816, -4.6966, -5.0696, -4.1443, -4.3174, -4.5016, -4.6175, -4.8774, -4.8993, -5.0027, -5.0237, -5.1275, -5.2532, -5.3083, -5.4775, -5.5186, -5.5623, -5.594, -5.5995, -5.7619, -5.8021, -5.9237, -5.9557, -5.2401, -4.1776, -4.544, -4.5912, -4.7698, -4.9913, -5.0357, -5.2001, -5.2547, -5.3009, -5.3976, -5.5418, -5.5699, -5.6174, -5.8089, -5.9384, -5.9803, -6.0188, -6.1058, -6.1537, -6.163, -4.1143, -4.2306, -4.8475, -4.8654, -5.176, -5.1969, -5.4844, -5.5683, -5.6055, -5.7233, -5.7945, -6.0678, -6.1144, -6.3306, -6.3306, -6.345, -6.4397, -6.1601, -6.5062, -6.588, -6.5544, -2.8647, -4.0471, -4.8787, -5.2365, -5.3683, -5.5426, -6.3128, -6.3128, -6.4095, -6.4121, -6.5704, -6.5704, -6.5704, -6.5704, -6.5704, -6.5704, -6.5704, -6.7001, -6.8217, -6.8217, -4.4055, -4.4894, -5.2621, -6.0561, -6.2224, -6.2224, -7.2101, -7.2101, -7.2101, -7.2101, -7.2101, -7.2104, -7.2104, -7.2104, -7.2106, -7.2106, -7.2106, -6.6125, -8.9447, -8.9447, -8.9002, -8.9002, -6.5287, -7.1736, -7.1736, -7.1736, -7.1736, -7.1736, -7.1742, -7.1742, -7.1742, -7.1897, -8.9084, -8.9084, -8.9084, -8.9084, -8.9084, -8.9084, -8.9084, -8.9084, -8.9084, -8.9084, -8.908, -8.9081, -8.9081, -8.9084, -8.9084, -8.9084, -8.9084, -8.9084, -8.9084, -8.9084], \"loglift\": [20.0, 19.0, 18.0, 17.0, 16.0, 15.0, 14.0, 13.0, 12.0, 11.0, 10.0, 9.0, 8.0, 7.0, 6.0, 5.0, 4.0, 3.0, 2.0, 1.0, 1.0601, 1.06, 1.0594, 1.0594, 1.0588, 1.0588, 1.0574, 1.0567, 1.0566, 1.0562, 1.0562, 1.0559, 1.055, 1.0545, 1.0543, 1.0539, 1.0537, 1.0535, 1.0533, 1.052, 1.0059, 0.8848, 0.9319, 0.9805, 0.7028, 0.6054, 0.8586, 0.6377, 0.7829, 0.0062, 0.0652, 0.5485, -0.4642, -0.9504, 1.3804, 1.3804, 1.38, 1.3777, 1.3763, 1.3756, 1.3748, 1.3748, 1.3726, 1.3725, 1.3722, 1.3715, 1.3707, 1.3706, 1.3704, 1.3688, 1.3684, 1.3677, 1.3672, 1.3671, 1.2134, 1.2301, 1.0282, 0.8202, 0.9986, 0.9975, 0.8953, 0.3085, 0.3772, 0.396, 0.7888, 0.7091, -0.0462, 0.4408, 0.1808, 0.5527, -0.1879, 1.4225, 1.4191, 1.4183, 1.4178, 1.4174, 1.4164, 1.4156, 1.4149, 1.4146, 1.4145, 1.4119, 1.4116, 1.4106, 1.41, 1.4088, 1.4085, 1.407, 1.4067, 1.4055, 1.4055, 1.3165, 1.2233, 1.053, 1.0724, 1.0716, 0.8167, 1.0397, 1.0995, 0.8271, 1.056, 0.7839, 0.262, 0.8507, 0.5089, 0.2661, -0.6161, 0.6396, -0.3253, 1.9704, 1.9638, 1.9608, 1.9595, 1.9591, 1.9583, 1.958, 1.9549, 1.9548, 1.9529, 1.9512, 1.9507, 1.9505, 1.9496, 1.9479, 1.9477, 1.9476, 1.9475, 1.9434, 1.943, 1.8363, 1.6559, 1.7202, 1.6549, 1.4793, 1.75, 1.5222, 1.0474, 1.514, 1.132, 1.3039, 1.1081, 1.4943, 1.1777, 1.193, -0.0489, 0.7792, 4.663, 4.6454, 4.6237, 4.608, 4.5666, 4.5629, 4.5434, 4.5394, 4.5179, 4.4893, 4.4758, 4.4302, 4.419, 4.4065, 4.3972, 4.3955, 4.3427, 4.3289, 4.2846, 4.2724, 4.1475, 4.9729, 4.9154, 4.9067, 4.8704, 4.8172, 4.8061, 4.7595, 4.7429, 4.7284, 4.6958, 4.6444, 4.6336, 4.6154, 4.5352, 4.4764, 4.456, 4.4375, 4.3934, 4.3686, 4.3639, 5.1963, 5.177, 5.0382, 5.0334, 4.9345, 4.9272, 4.8149, 4.7782, 4.7611, 4.7061, 4.6714, 4.5245, 4.498, 4.3668, 4.3668, 4.3575, 4.2958, 4.2607, 4.2522, 4.1965, 2.9356, 5.4408, 5.3172, 5.1206, 4.9931, 4.9383, 4.8599, 4.4224, 4.4224, 4.3576, 4.3557, 4.2452, 4.2452, 4.2452, 4.2452, 4.2452, 4.2452, 4.2452, 4.1507, 4.0593, 4.0593, 6.0337, 5.9909, 5.5149, 4.8974, 4.7566, 4.7566, 3.86, 3.86, 3.86, 3.86, 3.86, 3.8597, 3.8597, 3.8597, 3.8595, 3.8595, 3.8595, 3.7782, 2.1609, 2.1609, 2.1532, 2.1532, 4.5626, 3.932, 3.932, 3.932, 3.932, 3.932, 3.9314, 3.9314, 3.9314, 2.813, 2.1935, 2.1935, 2.1925, 2.1906, 2.1906, 2.1906, 2.1906, 2.1886, 2.1886, 2.1886, -0.5298, -0.5801, -0.7551, -2.9396, 1.4445, 1.4445, 1.4445, 1.4445, 1.4445, 1.4445]}, \"token.table\": {\"Topic\": [1, 2, 3, 3, 3, 3, 3, 3, 3, 3, 3, 3, 4, 1, 2, 1, 3, 8, 2, 1, 1, 7, 7, 1, 2, 2, 5, 2, 5, 1, 2, 2, 4, 3, 7, 6, 6, 2, 2, 4, 2, 4, 7, 2, 6, 7, 2, 7, 1, 2, 3, 4, 5, 2, 4, 7, 6, 4, 4, 2, 4, 4, 4, 8, 6, 4, 4, 1, 2, 3, 4, 1, 1, 4, 2, 3, 4, 1, 2, 3, 4, 3, 2, 3, 7, 1, 2, 3, 4, 6, 4, 4, 4, 1, 2, 5, 5, 2, 4, 6, 6, 1, 1, 2, 3, 7, 4, 4, 1, 1, 6, 8, 2, 1, 5, 3, 3, 4, 7, 1, 1, 2, 3, 3, 1, 2, 3, 1, 3, 3, 3, 2, 1, 1, 2, 2, 7, 1, 2, 2, 2, 6, 2, 2, 6, 6, 1, 2, 3, 4, 5, 8, 3, 5, 3, 2, 4, 2, 5, 2, 2, 3, 1, 3, 9, 3, 1, 3, 3, 6, 4, 1, 3, 5, 1, 2, 3, 3, 8, 3, 2, 3, 4, 6, 1, 3, 4, 5, 1, 1, 2, 3, 1, 1, 2, 1, 3, 4, 1, 3, 4, 1, 1, 2, 1, 2, 3, 2, 1, 2, 1, 2, 4, 1, 5, 1, 1, 3, 1, 3, 3, 1, 4, 1, 1, 1, 2, 3, 6, 5, 2, 1, 1, 1, 2, 1, 2, 3, 1, 2, 2, 4, 3, 5, 1, 2, 4, 5, 6, 2, 3, 4, 1, 2, 4, 5, 4, 1, 3, 3, 5, 8, 4, 5, 3, 4, 3, 4, 5, 5, 6, 5], \"Freq\": [0.21781839933829883, 0.23960023927212873, 0.5425658310790353, 0.9955118586249921, 0.888869537227404, 0.888869537227404, 0.888869537227404, 0.888869537227404, 0.888869537227404, 0.888869537227404, 0.6262204475618731, 0.20141706380512445, 0.8056682552204978, 0.8142900001646393, 0.18436754720708814, 0.30989130007184307, 0.6886473334929846, 0.8487334894037173, 0.9994516731934693, 0.9988800716013965, 0.9967890136257882, 0.5570787209565523, 0.9011477700290436, 0.29695258960801935, 0.700359881150989, 0.9958187839888969, 0.5868448281332336, 0.9809040880651718, 0.6934094860584457, 0.6346615003167677, 0.3658310831520233, 0.5435256875187103, 0.44470283524258114, 0.7501038659658245, 0.8832134113566329, 0.7655878434857549, 0.7561011463184464, 0.9813277843416915, 0.5689324790910893, 0.43030933697752444, 0.3909401012206549, 0.6086788917739311, 0.6907542641127102, 0.9986535196138953, 0.9856949991387811, 0.9951847220384508, 0.962921405357742, 0.9596140106443763, 0.07924754542783961, 0.06603962118986634, 0.12547528026074606, 0.7264358330885298, 0.6054072466555603, 0.9874390456265462, 0.9742816910625749, 0.7070585081980798, 0.515730415255993, 0.951673958292494, 1.0027312469234735, 0.8637944262306577, 0.1354971648989267, 0.9946067015540363, 0.9686196372641106, 0.9178273241701612, 0.8717392878373513, 0.9988822971313736, 0.9936455121744902, 0.13351355782178032, 0.3412013144334386, 0.1298048478822864, 0.3955957268793491, 0.9231671931359887, 0.22292683078512313, 0.780243907747931, 0.3076862310100869, 0.5640914235184926, 0.12307449240403476, 0.36824362210997397, 0.37162200396419387, 0.17229747456521716, 0.08445954635549861, 0.9876258227839125, 0.8425817589509895, 0.1541308095642054, 0.9403964573059109, 0.3491596421761939, 0.20712860129096247, 0.3106929019364437, 0.13315410082990445, 0.7883074033800971, 0.9624800976743608, 0.9665929875352168, 0.9868791904898058, 0.31592113381045783, 0.6821024479998522, 0.6191108441584436, 0.8069808061456956, 0.5312560117093085, 0.46314626661837144, 0.7275426992623508, 0.945686516876271, 0.9931549821172184, 0.10657764504208783, 0.1776294084034797, 0.7223595941741509, 0.6975359864157304, 0.9603354498114104, 1.0012242158290692, 0.9965138167683429, 0.9864813931939416, 0.5998750070095463, 0.6241322744126724, 0.999414072943876, 0.9978021156406309, 0.8637056493910654, 0.9386923463706378, 0.8087892169674215, 0.18156492625799256, 0.5644609629364195, 0.9910059221247265, 0.33292269355342313, 0.11849790787494723, 0.5473474792318991, 1.001791647290824, 0.27712806462590023, 0.19601741156466113, 0.527219244898054, 0.30041404521787723, 0.7034084961199077, 0.9836782297756929, 0.965860787617704, 0.9692838104937284, 0.9939246879227712, 0.9229888702490192, 0.07099914386530917, 0.9898502223472919, 0.8425338035529578, 0.49259987765097113, 0.5070881093465879, 0.9695225873679943, 1.0007745824270182, 0.8012973507317772, 0.9978580699244955, 0.9950043774077297, 0.9662151453268051, 0.5332133624097005, 0.1573424295734322, 0.2458475462084878, 0.29501705545018536, 0.30485095729852485, 0.7934003512963892, 0.7857266453466905, 0.9802935026066611, 0.8855716556990797, 0.9871151893182425, 0.993351770241066, 0.9771219358412492, 0.9789590186181696, 0.7119913031458387, 0.9850048921857515, 0.09974573249977964, 0.8977115924980168, 0.29740377646164773, 0.702954380727531, 0.9690572780557487, 0.9984083176877231, 0.3219614045339204, 0.6774604553734576, 0.9970579966697412, 0.643138233336116, 0.9878520934152124, 0.8761329638165749, 0.12131071806691038, 0.876196229857767, 0.33210371174234793, 0.21349524326293795, 0.45861941145371854, 0.9809747004764436, 0.9340461202995368, 0.9906926048077731, 0.9989166862398254, 0.9749882796927641, 0.9433941822353817, 0.685720224247933, 0.2918327687557966, 0.2918327687557966, 0.4223895337254951, 0.7295163946150021, 0.9958824092465901, 0.6555308633425302, 0.03237189448605087, 0.31157948442823963, 0.999823350210285, 0.944507133449108, 0.054230074647795674, 0.5975190911060295, 0.3963136828764482, 0.9408063067737519, 0.23773182718600722, 0.1462965090375429, 0.6217601634095573, 0.9997701640803706, 0.9985913350386684, 0.977327252238457, 0.8384647622667835, 0.16095528918514146, 0.9969151399874377, 0.999210170422867, 0.3183769082201677, 0.6775713687762542, 0.7574730137214573, 0.15149460274429144, 0.0856273841598169, 0.9999320509861318, 0.5695339743220308, 0.9829696844413081, 0.3126441352907574, 0.6932543869490707, 0.9966032699691619, 1.000000871724601, 0.9996802082710883, 0.13195031777829794, 0.8796687851886529, 1.0002857792555262, 0.9925104745925091, 0.44869588905754476, 0.5547512810166009, 0.973262715531967, 0.7524164828338883, 0.6214747535090099, 0.997477571345865, 0.9992620821461131, 0.9993563732433729, 0.5624310314438348, 0.43825794657961153, 0.3845497808184844, 0.6111594730865199, 0.9974414568265616, 0.6976788766187729, 0.3015094642674094, 0.3633209001112469, 0.6358115751946821, 0.33855983663634653, 0.6771196732726931, 0.18403225314307484, 0.3067204219051247, 0.5130596148231178, 0.7164107015798044, 0.8811709927316841, 0.06199280259999429, 0.20664267533331432, 0.7232493636666001, 0.2130852467541696, 0.1522037476815497, 0.6291088237504054, 0.7846031536303798, 0.9980365682056753, 0.9918389518346168, 0.9873861809009996, 0.9927967543785648, 0.7813724194373162, 0.9922879367982557, 0.9990878332834113, 0.7692212778595984, 0.99008243400566, 0.9892270670070539, 0.9890098621397242, 0.9524376355912153, 0.9655773195158202, 0.503281811258253, 0.6231234745078762, 0.9475374683694083], \"Term\": [\"aiin\", \"aiin\", \"aiin\", \"air\", \"airol\", \"aithchr\", \"akal\", \"alkain\", \"aloiiin\", \"araii\", \"aro\", \"chaiin\", \"chaiin\", \"chckhy\", \"chckhy\", \"chdy\", \"chdy\", \"cheaiin\", \"chear\", \"chedy\", \"cheedy\", \"cheodai\", \"cheodar\", \"cheol\", \"cheol\", \"cheor\", \"cheory\", \"cheos\", \"chepchy\", \"chey\", \"chey\", \"cho\", \"cho\", \"chockhey\", \"chocthey\", \"chodain\", \"choiin\", \"choky\", \"chol\", \"chol\", \"chor\", \"chor\", \"chory\", \"chos\", \"choteol\", \"chotor\", \"chs\", \"chso\", \"chy\", \"chy\", \"chy\", \"chy\", \"ckhedy\", \"ckhey\", \"ckhol\", \"cphaiin\", \"cphey\", \"cphy\", \"cthar\", \"cthey\", \"cthey\", \"ctho\", \"cthody\", \"cthol\", \"cthom\", \"cthor\", \"cthy\", \"daiin\", \"daiin\", \"daiin\", \"daiin\", \"daiindy\", \"dain\", \"dain\", \"dair\", \"dair\", \"dair\", \"dal\", \"dal\", \"dal\", \"dal\", \"daly\", \"dam\", \"dam\", \"dan\", \"dar\", \"dar\", \"dar\", \"dar\", \"dchaiin\", \"dchol\", \"dchor\", \"dchy\", \"dol\", \"dol\", \"doly\", \"dom\", \"dor\", \"dor\", \"dsho\", \"eeor\", \"kai\", \"kaiin\", \"kaiin\", \"kaiin\", \"kchody\", \"kchol\", \"kchor\", \"kedy\", \"keedy\", \"kodaiin\", \"koiin\", \"kol\", \"lchedy\", \"ockhy\", \"odor\", \"ody\", \"ody\", \"ofaiin\", \"okai\", \"okaiin\", \"okaiin\", \"okaiin\", \"okair\", \"okal\", \"okal\", \"okal\", \"okar\", \"okar\", \"okchdy\", \"okchedy\", \"okchey\", \"okedy\", \"okeedy\", \"okeedy\", \"okeeey\", \"okeeos\", \"okeey\", \"okeey\", \"okeo\", \"okeol\", \"okeos\", \"okol\", \"okor\", \"oksedy\", \"oksho\", \"oky\", \"oky\", \"oky\", \"oky\", \"oldaiin\", \"oldam\", \"olkai\", \"olkey\", \"olkor\", \"olky\", \"olol\", \"ols\", \"opcheor\", \"orar\", \"otaiin\", \"otaiin\", \"otal\", \"otal\", \"otaldy\", \"otam\", \"otar\", \"otar\", \"otchdy\", \"otchody\", \"otchol\", \"otedy\", \"otedy\", \"oteeor\", \"oteey\", \"oteey\", \"oteey\", \"oteo\", \"oteod\", \"oteody\", \"oteol\", \"oteos\", \"otoldy\", \"otory\", \"oty\", \"oty\", \"oty\", \"qoeol\", \"qokai\", \"qokaiin\", \"qokaiin\", \"qokaiin\", \"qokain\", \"qokal\", \"qokal\", \"qokar\", \"qokar\", \"qokchol\", \"qokchy\", \"qokchy\", \"qokchy\", \"qokedy\", \"qokeedy\", \"qokeeo\", \"qokeey\", \"qokeey\", \"qokeody\", \"qokeol\", \"qokol\", \"qokol\", \"qoky\", \"qoky\", \"qoky\", \"qol\", \"qool\", \"qotai\", \"qotaiin\", \"qotaiin\", \"qotal\", \"qotchdy\", \"qotchey\", \"qotchy\", \"qotchy\", \"qotedy\", \"qoteedy\", \"saiin\", \"saiin\", \"sair\", \"schol\", \"shchy\", \"she\", \"shedy\", \"sheedy\", \"sheey\", \"sheey\", \"sheol\", \"sheol\", \"sheos\", \"shey\", \"shey\", \"sho\", \"sho\", \"shockhy\", \"shockhy\", \"shol\", \"shol\", \"shol\", \"sholdy\", \"shom\", \"shor\", \"shor\", \"shor\", \"shy\", \"shy\", \"shy\", \"sody\", \"tchy\", \"tedy\", \"ykaiin\", \"ykar\", \"ykeeody\", \"ykeody\", \"ykol\", \"ysaiin\", \"ytaiin\", \"ytal\", \"ytar\", \"ytchey\", \"ytchol\", \"yteor\", \"yto\", \"ytol\"]}, \"R\": 20, \"lambda.step\": 0.01, \"plot.opts\": {\"xlab\": \"PC1\", \"ylab\": \"PC2\"}, \"topic.order\": [2, 6, 4, 7, 8, 9, 5, 10, 1, 3]};\n",
       "\n",
       "function LDAvis_load_lib(url, callback){\n",
       "  var s = document.createElement('script');\n",
       "  s.src = url;\n",
       "  s.async = true;\n",
       "  s.onreadystatechange = s.onload = callback;\n",
       "  s.onerror = function(){console.warn(\"failed to load library \" + url);};\n",
       "  document.getElementsByTagName(\"head\")[0].appendChild(s);\n",
       "}\n",
       "\n",
       "if(typeof(LDAvis) !== \"undefined\"){\n",
       "   // already loaded: just create the visualization\n",
       "   !function(LDAvis){\n",
       "       new LDAvis(\"#\" + \"ldavis_el3410420262041368325414937570\", ldavis_el3410420262041368325414937570_data);\n",
       "   }(LDAvis);\n",
       "}else if(typeof define === \"function\" && define.amd){\n",
       "   // require.js is available: use it to load d3/LDAvis\n",
       "   require.config({paths: {d3: \"https://d3js.org/d3.v5\"}});\n",
       "   require([\"d3\"], function(d3){\n",
       "      window.d3 = d3;\n",
       "      LDAvis_load_lib(\"https://cdn.jsdelivr.net/gh/bmabey/pyLDAvis@3.3.1/pyLDAvis/js/ldavis.v3.0.0.js\", function(){\n",
       "        new LDAvis(\"#\" + \"ldavis_el3410420262041368325414937570\", ldavis_el3410420262041368325414937570_data);\n",
       "      });\n",
       "    });\n",
       "}else{\n",
       "    // require.js not available: dynamically load d3 & LDAvis\n",
       "    LDAvis_load_lib(\"https://d3js.org/d3.v5.js\", function(){\n",
       "         LDAvis_load_lib(\"https://cdn.jsdelivr.net/gh/bmabey/pyLDAvis@3.3.1/pyLDAvis/js/ldavis.v3.0.0.js\", function(){\n",
       "                 new LDAvis(\"#\" + \"ldavis_el3410420262041368325414937570\", ldavis_el3410420262041368325414937570_data);\n",
       "            })\n",
       "         });\n",
       "}\n",
       "</script>"
      ],
      "text/plain": [
       "PreparedData(topic_coordinates=              x         y  topics  cluster       Freq\n",
       "topic                                                \n",
       "1     -0.341609 -0.108936       1        1  34.615080\n",
       "5     -0.108929 -0.296040       2        1  25.029044\n",
       "3     -0.202630  0.225371       3        1  23.994014\n",
       "6      0.244587 -0.204724       4        1  13.884004\n",
       "7      0.127124  0.061072       5        1   0.855636\n",
       "8      0.083506  0.099024       6        1   0.599870\n",
       "4      0.044623  0.089338       7        1   0.466099\n",
       "9      0.056375  0.026206       8        1   0.408398\n",
       "0      0.044559  0.053810       9        1   0.119143\n",
       "2      0.052393  0.054880      10        1   0.028713, topic_info=         Term       Freq       Total Category  logprob  loglift\n",
       "614     chedy  536.00000  536.000000  Default  20.0000  20.0000\n",
       "784     shedy  485.00000  485.000000  Default  19.0000  19.0000\n",
       "28      daiin  808.00000  808.000000  Default  18.0000  18.0000\n",
       "23       chol  346.00000  346.000000  Default  17.0000  17.0000\n",
       "741    qokedy  280.00000  280.000000  Default  16.0000  16.0000\n",
       "...       ...        ...         ...      ...      ...      ...\n",
       "2712  aithchr    0.00137    1.125024  Topic10  -8.9084   1.4445\n",
       "2713     akal    0.00137    1.125024  Topic10  -8.9084   1.4445\n",
       "2714   alkain    0.00137    1.125024  Topic10  -8.9084   1.4445\n",
       "2715  aloiiin    0.00137    1.125024  Topic10  -8.9084   1.4445\n",
       "2716    araii    0.00137    1.125024  Topic10  -8.9084   1.4445\n",
       "\n",
       "[300 rows x 6 columns], token_table=      Topic      Freq    Term\n",
       "term                         \n",
       "155       1  0.217818    aiin\n",
       "155       2  0.239600    aiin\n",
       "155       3  0.542566    aiin\n",
       "931       3  0.995512     air\n",
       "2711      3  0.888870   airol\n",
       "...     ...       ...     ...\n",
       "3218      4  0.952438  ytchey\n",
       "93        5  0.965577  ytchol\n",
       "476       5  0.503282   yteor\n",
       "3564      6  0.623123     yto\n",
       "423       5  0.947537    ytol\n",
       "\n",
       "[272 rows x 3 columns], R=20, lambda_step=0.01, plot_opts={'xlab': 'PC1', 'ylab': 'PC2'}, topic_order=[2, 6, 4, 7, 8, 9, 5, 10, 1, 3])"
      ]
     },
     "execution_count": 102,
     "metadata": {},
     "output_type": "execute_result"
    }
   ],
   "source": [
    "import pyLDAvis\n",
    "import pyLDAvis.gensim_models\n",
    "pyLDAvis.enable_notebook()\n",
    "vis = pyLDAvis.gensim_models.prepare(lda_model, corpus, id2word,mds=\"mmds\", R=20)\n",
    "vis"
   ]
  }
 ],
 "metadata": {
  "kernelspec": {
   "display_name": "Python 3.10.2 ('fpenv': venv)",
   "language": "python",
   "name": "python3"
  },
  "language_info": {
   "codemirror_mode": {
    "name": "ipython",
    "version": 3
   },
   "file_extension": ".py",
   "mimetype": "text/x-python",
   "name": "python",
   "nbconvert_exporter": "python",
   "pygments_lexer": "ipython3",
   "version": "3.10.2"
  },
  "orig_nbformat": 4,
  "vscode": {
   "interpreter": {
    "hash": "78b1e49cd5e32408aa5f511263e1173aa36430829e3ca852ce0af459472a6a2b"
   }
  }
 },
 "nbformat": 4,
 "nbformat_minor": 2
}
